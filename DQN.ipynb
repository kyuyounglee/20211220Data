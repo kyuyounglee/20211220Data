{
 "cells": [
  {
   "cell_type": "code",
   "execution_count": 2,
   "id": "c1b6b1bf",
   "metadata": {},
   "outputs": [],
   "source": [
    "import numpy as np\n",
    "import random\n",
    "import gym\n",
    "import tensorflow as tf\n",
    "from tensorflow.keras.models import Sequential\n",
    "from tensorflow.keras.layers import Dense\n",
    "from tensorflow.keras.optimizers import Adam\n",
    "from collections import deque"
   ]
  },
  {
   "cell_type": "code",
   "execution_count": 3,
   "id": "587778bd",
   "metadata": {},
   "outputs": [
    {
     "name": "stdout",
     "output_type": "stream",
     "text": [
      "0 번째 에피소드의 점수: 11.0\n",
      "1 번째 에피소드의 점수: 22.0\n",
      "2 번째 에피소드의 점수: 11.0\n",
      "3 번째 에피소드의 점수: 20.0\n",
      "4 번째 에피소드의 점수: 28.0\n",
      "5 번째 에피소드의 점수: 36.0\n",
      "6 번째 에피소드의 점수: 15.0\n",
      "7 번째 에피소드의 점수: 18.0\n"
     ]
    },
    {
     "name": "stderr",
     "output_type": "stream",
     "text": [
      "C:\\Users\\User\\AppData\\Local\\Temp/ipykernel_9628/3550851646.py:20: VisibleDeprecationWarning: Creating an ndarray from ragged nested sequences (which is a list-or-tuple of lists-or-tuples-or ndarrays with different lengths or shapes) is deprecated. If you meant to do this, you must specify 'dtype=object' when creating the ndarray.\n",
      "  mini_batch=np.asarray(random.sample(D,batch_siz))\n"
     ]
    },
    {
     "name": "stdout",
     "output_type": "stream",
     "text": [
      "8 번째 에피소드의 점수: 41.0\n",
      "9 번째 에피소드의 점수: 9.0\n",
      "10 번째 에피소드의 점수: 14.0\n",
      "11 번째 에피소드의 점수: 14.0\n",
      "12 번째 에피소드의 점수: 13.0\n",
      "13 번째 에피소드의 점수: 11.0\n",
      "14 번째 에피소드의 점수: 15.0\n",
      "15 번째 에피소드의 점수: 14.0\n",
      "16 번째 에피소드의 점수: 12.0\n",
      "17 번째 에피소드의 점수: 12.0\n",
      "18 번째 에피소드의 점수: 14.0\n",
      "19 번째 에피소드의 점수: 20.0\n",
      "20 번째 에피소드의 점수: 14.0\n",
      "21 번째 에피소드의 점수: 11.0\n",
      "22 번째 에피소드의 점수: 11.0\n",
      "23 번째 에피소드의 점수: 8.0\n",
      "24 번째 에피소드의 점수: 12.0\n",
      "25 번째 에피소드의 점수: 15.0\n",
      "26 번째 에피소드의 점수: 10.0\n",
      "27 번째 에피소드의 점수: 12.0\n",
      "28 번째 에피소드의 점수: 18.0\n",
      "29 번째 에피소드의 점수: 8.0\n",
      "30 번째 에피소드의 점수: 14.0\n",
      "31 번째 에피소드의 점수: 10.0\n",
      "32 번째 에피소드의 점수: 21.0\n",
      "33 번째 에피소드의 점수: 43.0\n",
      "34 번째 에피소드의 점수: 44.0\n",
      "35 번째 에피소드의 점수: 76.0\n",
      "36 번째 에피소드의 점수: 79.0\n",
      "37 번째 에피소드의 점수: 87.0\n",
      "38 번째 에피소드의 점수: 87.0\n",
      "39 번째 에피소드의 점수: 55.0\n",
      "40 번째 에피소드의 점수: 55.0\n",
      "41 번째 에피소드의 점수: 53.0\n",
      "42 번째 에피소드의 점수: 102.0\n",
      "43 번째 에피소드의 점수: 50.0\n",
      "44 번째 에피소드의 점수: 73.0\n",
      "45 번째 에피소드의 점수: 58.0\n",
      "46 번째 에피소드의 점수: 72.0\n",
      "47 번째 에피소드의 점수: 170.0\n",
      "48 번째 에피소드의 점수: 95.0\n",
      "49 번째 에피소드의 점수: 97.0\n",
      "50 번째 에피소드의 점수: 200.0\n",
      "51 번째 에피소드의 점수: 163.0\n",
      "52 번째 에피소드의 점수: 200.0\n",
      "53 번째 에피소드의 점수: 197.0\n",
      "54 번째 에피소드의 점수: 200.0\n"
     ]
    }
   ],
   "source": [
    "# 하이퍼 매개변수 설정\n",
    "rho=0.9 # 학습률\n",
    "lamda=0.99 # 할인율\n",
    "eps=0.9\n",
    "eps_decay=0.999\n",
    "batch_siz=64\n",
    "n_episode=100\n",
    "\n",
    "# 신경망을 설계해주는 함수\n",
    "def deep_network():\n",
    "    mlp=Sequential()\n",
    "    mlp.add(Dense(32,input_dim=env.observation_space.shape[0],activation='relu'))\n",
    "    mlp.add(Dense(32,activation='relu'))\n",
    "    mlp.add(Dense(env.action_space.n,activation='linear'))\n",
    "    mlp.compile(loss='mse',optimizer='Adam')\n",
    "    return mlp\n",
    "\n",
    "# DQN 학습\n",
    "def model_learning():\n",
    "    mini_batch=np.asarray(random.sample(D,batch_siz))\n",
    "    state=np.asarray([mini_batch[i,0] for i in range(batch_siz)])\n",
    "    action=mini_batch[:,1]\n",
    "    reward=mini_batch[:,2]\n",
    "    state1=np.asarray([mini_batch[i,3] for i in range(batch_siz)])\n",
    "    done=mini_batch[:,4]\n",
    "\n",
    "    target=model.predict(state)\n",
    "    target1=model.predict(state1)\n",
    "\n",
    "    for i in range(batch_siz):\n",
    "        if done[i]:\n",
    "            target[i][action[i]]=reward[i]\n",
    "        else:\n",
    "            target[i][action[i]]+=rho*((reward[i]+lamda*np.amax(target1[i]))-target[i][action[i]]) # Q 러닝(식 (9.19))\n",
    "    model.fit(state,target,batch_size=batch_siz,epochs=1,verbose=0)\n",
    "\n",
    "env=gym.make(\"CartPole-v0\")\n",
    "\n",
    "model=deep_network() # 신경망 생성\n",
    "D=deque(maxlen=2000) # 리플레이 메모리 초기화\n",
    "scores=[]\n",
    "max_steps=env.spec.max_episode_steps\n",
    "\n",
    "# 신경망 학습\n",
    "for i in range(n_episode):\n",
    "    s=env.reset()\n",
    "    long_reward=0\n",
    "\n",
    "    while True:\n",
    "        r=np.random.random()\n",
    "        eps=max(0.01,eps*eps_decay) # 엡시론을 조금씩 줄여나감\n",
    "        if(r<eps):\n",
    "            a=np.random.randint(0,env.action_space.n) # 랜덤 정책\n",
    "        else:\n",
    "            q=model.predict(np.reshape(s,[1,4])) # 신경망이 예측한 행동\n",
    "            a=np.argmax(q[0])\n",
    "        s1,r,done,_=env.step(a)\n",
    "        if done and long_reward<max_steps-1: # 실패\n",
    "            r=-100\n",
    "\n",
    "        D.append((s,a,r,s1,done))\n",
    "\n",
    "        if len(D)>batch_siz*3:\n",
    "            model_learning()\n",
    "\n",
    "        s=s1\n",
    "        long_reward+=r\n",
    "        \n",
    "        if done:\n",
    "            long_reward=long_reward if long_reward==max_steps else long_reward+100\n",
    "            print(i,\"번째 에피소드의 점수:\",long_reward)\n",
    "            scores.append(long_reward)\n",
    "            break\n",
    "\n",
    "    if i>10 and np.mean(scores[-5:])>(0.95*max_steps):\n",
    "        break\n",
    "    \n",
    "# 신경망 저장\n",
    "model.save(\"./cartpole_by_DQN.h5\")\n",
    "env.close()\n"
   ]
  },
  {
   "cell_type": "code",
   "execution_count": 4,
   "id": "bbcb3471",
   "metadata": {},
   "outputs": [
    {
     "data": {
      "image/png": "[encoded data removed]",
      "text/plain": [
       "<Figure size 432x288 with 1 Axes>"
      ]
     },
     "metadata": {
      "needs_background": "light"
     },
     "output_type": "display_data"
    }
   ],
   "source": [
    "import matplotlib.pyplot as plt\n",
    "\n",
    "plt.plot(range(1,len(scores)+1),scores)\n",
    "plt.title('DQN scores for CartPole-v0')\n",
    "plt.ylabel('Score')\n",
    "plt.xlabel('Episode')\n",
    "plt.grid()\n",
    "plt.show()"
   ]
  },
  {
   "cell_type": "code",
   "execution_count": null,
   "id": "adf369cb",
   "metadata": {},
   "outputs": [
    {
     "data": {
      "image/png": "[encoded data removed]",
      "text/plain": [
       "<Figure size 432x288 with 1 Axes>"
      ]
     },
     "metadata": {},
     "output_type": "display_data"
    }
   ],
   "source": [
    "import matplotlib.pyplot as plt\n",
    "from tensorflow.keras.models import Sequential\n",
    "from tensorflow.keras.models import load_model\n",
    "import numpy as np\n",
    "import gym\n",
    "import time\n",
    "from IPython import display\n",
    "\n",
    "# 신경망 블러옴\n",
    "model=load_model('./cartpole_by_DQN.h5')\n",
    "\n",
    "env=gym.make(\"CartPole-v0\")\n",
    "long_reward=0\n",
    "\n",
    "# CartPole 플레이\n",
    "s=env.reset()\n",
    "while True:   \n",
    "    \n",
    "    q=model.predict(np.reshape(s,[1,4])) # 신경망이 예측한 행동\n",
    "    a=np.argmax(q[0])\n",
    "    s1,r,done,_=env.step(a)\n",
    "    s=s1\n",
    "    long_reward+=r\n",
    "\n",
    "    plt.imshow(env.render(mode='rgb_array'))\n",
    "    display.display(plt.gcf())\n",
    "    display.clear_output(wait=True)\n",
    "\n",
    "    if done:\n",
    "        print(\"에피소드의 점수:\",long_reward)\n",
    "        break\n",
    "\n",
    "env.close()"
   ]
  },
  {
   "cell_type": "code",
   "execution_count": 7,
   "id": "ac0671ad",
   "metadata": {},
   "outputs": [
    {
     "name": "stdout",
     "output_type": "stream",
     "text": [
      "Collecting pyglet\n",
      "  Downloading pyglet-1.5.21-py3-none-any.whl (1.1 MB)\n",
      "Installing collected packages: pyglet\n",
      "Successfully installed pyglet-1.5.21\n"
     ]
    }
   ],
   "source": [
    "!pip install pyglet"
   ]
  },
  {
   "cell_type": "code",
   "execution_count": 10,
   "id": "0ccceddd",
   "metadata": {},
   "outputs": [],
   "source": [
    "from IPython import display"
   ]
  },
  {
   "cell_type": "code",
   "execution_count": null,
   "id": "1ae42f3c",
   "metadata": {},
   "outputs": [],
   "source": []
  }
 ],
 "metadata": {
  "kernelspec": {
   "display_name": "Python 3 (ipykernel)",
   "language": "python",
   "name": "python3"
  },
  "language_info": {
   "codemirror_mode": {
    "name": "ipython",
    "version": 3
   },
   "file_extension": ".py",
   "mimetype": "text/x-python",
   "name": "python",
   "nbconvert_exporter": "python",
   "pygments_lexer": "ipython3",
   "version": "3.9.7"
  }
 },
 "nbformat": 4,
 "nbformat_minor": 5
}
