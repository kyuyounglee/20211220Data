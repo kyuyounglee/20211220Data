{
 "cells": [
  {
   "cell_type": "code",
   "execution_count": 1,
   "id": "292371e1",
   "metadata": {},
   "outputs": [],
   "source": [
    "import numpy as np\n",
    "import tensorflow as tf\n",
    "import tkinter as tk\n",
    "from tkinter import filedialog\n",
    "from PIL import Image, ImageTk\n",
    "import winsound\n",
    "from gtts import gTTS\n",
    "import playsound\n",
    "import os"
   ]
  },
  {
   "cell_type": "code",
   "execution_count": 4,
   "id": "2a97084a",
   "metadata": {},
   "outputs": [],
   "source": [
    "cnn=tf.keras.models.load_model(\"D:/model/my_cnn_for_deploy.h5\") # 학습된 모델 불러오기"
   ]
  },
  {
   "cell_type": "code",
   "execution_count": 5,
   "id": "5257c4da",
   "metadata": {},
   "outputs": [],
   "source": [
    "class_names_en=['airplane','automobile','bird','cat','deer','dog','frog','horse','ship','truck'] # CIFAR-10의 부류 이름(영어)\n",
    "class_names_fr=['avion','voiture','oiseau','chatte','biche','chienne','grenouille','jument','navire','un camion'] # CIFAR-10의 부류 이름(프랑스어)\n",
    "class_names_de=['Flugzeug','Automobil','Vogel','Katze','Hirsch','Hund','Frosch','Pferd','Schiff','LKW'] # CIFAR-10의 부류 이름(독일어)\n",
    "\n",
    "class_id=0\n",
    "tk_img=''"
   ]
  },
  {
   "cell_type": "code",
   "execution_count": 6,
   "id": "422f7a19",
   "metadata": {},
   "outputs": [],
   "source": [
    "def process_image(): # 사용자가 선택한 영상을 인식하고 결과를 저장\n",
    "    global class_id, tk_img\n",
    "\n",
    "    fname=filedialog.askopenfilename() # 사용자가 폴더에서 영상을 선택하게 함\n",
    "    img=Image.open(fname)\n",
    "    tk_img=img.resize([128,128])\n",
    "    tk_img=ImageTk.PhotoImage(tk_img)\n",
    "    canvas.create_image((canvas.winfo_width()/2,canvas.winfo_height()/2),image=tk_img,anchor='center')\n",
    "\n",
    "    x_test=[]\n",
    "    x=np.asarray(img.resize([32,32]))/255.0\n",
    "    x_test.append(x)\n",
    "    x_test=np.asarray(x_test)\n",
    "    res=cnn.predict(x_test) # 영상 인식\n",
    "    class_id=np.argmax(res)\n",
    "    label_en['text']='영어: '+class_names_en[class_id] # 레이블 위젯용 텍스트 만들기\n",
    "    label_fr['text']='프랑스어: '+class_names_fr[class_id]\n",
    "    label_de['text']='독일어: '+class_names_de[class_id]\n",
    "    winsound.Beep(frequency=500,duration=250)\n",
    "\n",
    "def tts_english(): # 영어로 들려주기\n",
    "    tts=gTTS(text=class_names_en[class_id],lang='en')\n",
    "    if os.path.isfile('word.mp3'): os.remove('word.mp3')\n",
    "    tts.save('word.mp3')\n",
    "    playsound.playsound('word.mp3',True)\n",
    "\n",
    "def tts_french(): # 프랑스어로 들려주기\n",
    "    tts=gTTS(text=class_names_fr[class_id],lang='fr')\n",
    "    if os.path.isfile('word.mp3'): os.remove('word.mp3')\n",
    "    tts.save('word.mp3')\n",
    "    playsound.playsound('word.mp3',True)\n",
    "\n",
    "def tts_deutsch(): # 독일어로 들려주기\n",
    "    tts=gTTS(text=class_names_de[class_id],lang='de')\n",
    "    if os.path.isfile('word.mp3'): os.remove('word.mp3')\n",
    "    tts.save('word.mp3')\n",
    "    playsound.playsound('word.mp3',True)\n",
    "\n",
    "def quit_program(): # 프로그램 종료\n",
    "    win.destroy()"
   ]
  },
  {
   "cell_type": "code",
   "execution_count": 15,
   "id": "d6e42010",
   "metadata": {},
   "outputs": [
    {
     "data": {
      "text/plain": [
       "''"
      ]
     },
     "execution_count": 15,
     "metadata": {},
     "output_type": "execute_result"
    }
   ],
   "source": [
    "win=tk.Tk()\n",
    "win.title('다국어 단어 공부')\n",
    "win.geometry('512x500')"
   ]
  },
  {
   "cell_type": "code",
   "execution_count": 16,
   "id": "31bec121",
   "metadata": {},
   "outputs": [],
   "source": [
    "process_button=tk.Button(win,text='영상 선택',command=process_image) # 위젯 생성\n",
    "quit_button=tk.Button(win,text='끝내기',command=quit_program)\n",
    "canvas=tk.Canvas(win,width=256,height=256,bg='cyan',bd=4)\n",
    "label_en=tk.Label(win,width=16,height=1,bg='yellow',bd=4,text='영어',anchor='w')\n",
    "label_fr=tk.Label(win,width=16,height=1,bg='yellow',bd=4,text='프랑스어',anchor='w')\n",
    "label_de=tk.Label(win,width=16,height=1,bg='yellow',bd=4,text='독일어',anchor='w')\n",
    "tts_en=tk.Button(win,text='듣기',command=tts_english)\n",
    "tts_fr=tk.Button(win,text='듣기',command=tts_french)\n",
    "tts_de=tk.Button(win,text='듣기',command=tts_deutsch)"
   ]
  },
  {
   "cell_type": "code",
   "execution_count": 17,
   "id": "af799805",
   "metadata": {},
   "outputs": [],
   "source": [
    "process_button.grid(row=0,column=0) # 위젯 배치\n",
    "quit_button.grid(row=1,column=0)\n",
    "canvas.grid(row=0,column=1)\n",
    "label_en.grid(row=1,column=1,sticky='e')\n",
    "label_fr.grid(row=2,column=1,sticky='e')\n",
    "label_de.grid(row=3,column=1,sticky='e')\n",
    "tts_en.grid(row=1,column=2,sticky='w')\n",
    "tts_fr.grid(row=2,column=2,sticky='w')\n",
    "tts_de.grid(row=3,column=2,sticky='w')"
   ]
  },
  {
   "cell_type": "code",
   "execution_count": null,
   "id": "c941334f",
   "metadata": {},
   "outputs": [
    {
     "name": "stderr",
     "output_type": "stream",
     "text": [
      "Exception in Tkinter callback\n",
      "Traceback (most recent call last):\n",
      "  File \"C:\\Users\\User\\anaconda3\\envs\\deepn\\lib\\site-packages\\urllib3\\connectionpool.py\", line 699, in urlopen\n",
      "    httplib_response = self._make_request(\n",
      "  File \"C:\\Users\\User\\anaconda3\\envs\\deepn\\lib\\site-packages\\urllib3\\connectionpool.py\", line 445, in _make_request\n",
      "    six.raise_from(e, None)\n",
      "  File \"<string>\", line 3, in raise_from\n",
      "  File \"C:\\Users\\User\\anaconda3\\envs\\deepn\\lib\\site-packages\\urllib3\\connectionpool.py\", line 440, in _make_request\n",
      "    httplib_response = conn.getresponse()\n",
      "  File \"C:\\Users\\User\\anaconda3\\envs\\deepn\\lib\\http\\client.py\", line 1371, in getresponse\n",
      "    response.begin()\n",
      "  File \"C:\\Users\\User\\anaconda3\\envs\\deepn\\lib\\http\\client.py\", line 319, in begin\n",
      "    version, status, reason = self._read_status()\n",
      "  File \"C:\\Users\\User\\anaconda3\\envs\\deepn\\lib\\http\\client.py\", line 288, in _read_status\n",
      "    raise RemoteDisconnected(\"Remote end closed connection without\"\n",
      "http.client.RemoteDisconnected: Remote end closed connection without response\n",
      "\n",
      "During handling of the above exception, another exception occurred:\n",
      "\n",
      "Traceback (most recent call last):\n",
      "  File \"C:\\Users\\User\\anaconda3\\envs\\deepn\\lib\\site-packages\\requests\\adapters.py\", line 439, in send\n",
      "    resp = conn.urlopen(\n",
      "  File \"C:\\Users\\User\\anaconda3\\envs\\deepn\\lib\\site-packages\\urllib3\\connectionpool.py\", line 755, in urlopen\n",
      "    retries = retries.increment(\n",
      "  File \"C:\\Users\\User\\anaconda3\\envs\\deepn\\lib\\site-packages\\urllib3\\util\\retry.py\", line 532, in increment\n",
      "    raise six.reraise(type(error), error, _stacktrace)\n",
      "  File \"C:\\Users\\User\\anaconda3\\envs\\deepn\\lib\\site-packages\\urllib3\\packages\\six.py\", line 769, in reraise\n",
      "    raise value.with_traceback(tb)\n",
      "  File \"C:\\Users\\User\\anaconda3\\envs\\deepn\\lib\\site-packages\\urllib3\\connectionpool.py\", line 699, in urlopen\n",
      "    httplib_response = self._make_request(\n",
      "  File \"C:\\Users\\User\\anaconda3\\envs\\deepn\\lib\\site-packages\\urllib3\\connectionpool.py\", line 445, in _make_request\n",
      "    six.raise_from(e, None)\n",
      "  File \"<string>\", line 3, in raise_from\n",
      "  File \"C:\\Users\\User\\anaconda3\\envs\\deepn\\lib\\site-packages\\urllib3\\connectionpool.py\", line 440, in _make_request\n",
      "    httplib_response = conn.getresponse()\n",
      "  File \"C:\\Users\\User\\anaconda3\\envs\\deepn\\lib\\http\\client.py\", line 1371, in getresponse\n",
      "    response.begin()\n",
      "  File \"C:\\Users\\User\\anaconda3\\envs\\deepn\\lib\\http\\client.py\", line 319, in begin\n",
      "    version, status, reason = self._read_status()\n",
      "  File \"C:\\Users\\User\\anaconda3\\envs\\deepn\\lib\\http\\client.py\", line 288, in _read_status\n",
      "    raise RemoteDisconnected(\"Remote end closed connection without\"\n",
      "urllib3.exceptions.ProtocolError: ('Connection aborted.', RemoteDisconnected('Remote end closed connection without response'))\n",
      "\n",
      "During handling of the above exception, another exception occurred:\n",
      "\n",
      "Traceback (most recent call last):\n",
      "  File \"C:\\Users\\User\\anaconda3\\envs\\deepn\\lib\\site-packages\\gtts\\tts.py\", line 264, in write_to_fp\n",
      "    r = s.send(request=pr,\n",
      "  File \"C:\\Users\\User\\anaconda3\\envs\\deepn\\lib\\site-packages\\requests\\sessions.py\", line 655, in send\n",
      "    r = adapter.send(request, **kwargs)\n",
      "  File \"C:\\Users\\User\\anaconda3\\envs\\deepn\\lib\\site-packages\\requests\\adapters.py\", line 498, in send\n",
      "    raise ConnectionError(err, request=request)\n",
      "requests.exceptions.ConnectionError: ('Connection aborted.', RemoteDisconnected('Remote end closed connection without response'))\n",
      "\n",
      "During handling of the above exception, another exception occurred:\n",
      "\n",
      "Traceback (most recent call last):\n",
      "  File \"C:\\Users\\User\\anaconda3\\envs\\deepn\\lib\\tkinter\\__init__.py\", line 1892, in __call__\n",
      "    return self.func(*args)\n",
      "  File \"C:\\Users\\User\\AppData\\Local\\Temp/ipykernel_27864/3527311805.py\", line 24, in tts_english\n",
      "    tts.save('word.mp3')\n",
      "  File \"C:\\Users\\User\\anaconda3\\envs\\deepn\\lib\\site-packages\\gtts\\tts.py\", line 313, in save\n",
      "    self.write_to_fp(f)\n",
      "  File \"C:\\Users\\User\\anaconda3\\envs\\deepn\\lib\\site-packages\\gtts\\tts.py\", line 280, in write_to_fp\n",
      "    raise gTTSError(tts=self)\n",
      "gtts.tts.gTTSError: Failed to connect. Probable cause: Unknown\n",
      "\n",
      "    Error 263 for command:\n",
      "        open word.mp3\n",
      "    지정한 장치가 열려 있지 않거나 MCI에서 인식되지 않습니다.\n",
      "\n",
      "    Error 263 for command:\n",
      "        close word.mp3\n",
      "    지정한 장치가 열려 있지 않거나 MCI에서 인식되지 않습니다.\n",
      "Failed to close the file: word.mp3\n",
      "Exception in Tkinter callback\n",
      "Traceback (most recent call last):\n",
      "  File \"C:\\Users\\User\\anaconda3\\envs\\deepn\\lib\\tkinter\\__init__.py\", line 1892, in __call__\n",
      "    return self.func(*args)\n",
      "  File \"C:\\Users\\User\\AppData\\Local\\Temp/ipykernel_27864/3527311805.py\", line 31, in tts_french\n",
      "    playsound.playsound('word.mp3',True)\n",
      "  File \"C:\\Users\\User\\anaconda3\\envs\\deepn\\lib\\site-packages\\playsound.py\", line 72, in _playsoundWin\n",
      "    winCommand(u'open {}'.format(sound))\n",
      "  File \"C:\\Users\\User\\anaconda3\\envs\\deepn\\lib\\site-packages\\playsound.py\", line 64, in winCommand\n",
      "    raise PlaysoundException(exceptionMessage)\n",
      "playsound.PlaysoundException: \n",
      "    Error 263 for command:\n",
      "        open word.mp3\n",
      "    지정한 장치가 열려 있지 않거나 MCI에서 인식되지 않습니다.\n",
      "\n",
      "    Error 263 for command:\n",
      "        open word.mp3\n",
      "    지정한 장치가 열려 있지 않거나 MCI에서 인식되지 않습니다.\n",
      "\n",
      "    Error 263 for command:\n",
      "        close word.mp3\n",
      "    지정한 장치가 열려 있지 않거나 MCI에서 인식되지 않습니다.\n",
      "Failed to close the file: word.mp3\n",
      "Exception in Tkinter callback\n",
      "Traceback (most recent call last):\n",
      "  File \"C:\\Users\\User\\anaconda3\\envs\\deepn\\lib\\tkinter\\__init__.py\", line 1892, in __call__\n",
      "    return self.func(*args)\n",
      "  File \"C:\\Users\\User\\AppData\\Local\\Temp/ipykernel_27864/3527311805.py\", line 31, in tts_french\n",
      "    playsound.playsound('word.mp3',True)\n",
      "  File \"C:\\Users\\User\\anaconda3\\envs\\deepn\\lib\\site-packages\\playsound.py\", line 72, in _playsoundWin\n",
      "    winCommand(u'open {}'.format(sound))\n",
      "  File \"C:\\Users\\User\\anaconda3\\envs\\deepn\\lib\\site-packages\\playsound.py\", line 64, in winCommand\n",
      "    raise PlaysoundException(exceptionMessage)\n",
      "playsound.PlaysoundException: \n",
      "    Error 263 for command:\n",
      "        open word.mp3\n",
      "    지정한 장치가 열려 있지 않거나 MCI에서 인식되지 않습니다.\n"
     ]
    },
    {
     "ename": "KeyboardInterrupt",
     "evalue": "",
     "output_type": "error",
     "traceback": [
      "\u001b[1;31m---------------------------------------------------------------------------\u001b[0m",
      "\u001b[1;31mKeyboardInterrupt\u001b[0m                         Traceback (most recent call last)",
      "\u001b[1;32m~\\AppData\\Local\\Temp/ipykernel_27864/2299513414.py\u001b[0m in \u001b[0;36m<module>\u001b[1;34m\u001b[0m\n\u001b[1;32m----> 1\u001b[1;33m \u001b[0mwin\u001b[0m\u001b[1;33m.\u001b[0m\u001b[0mmainloop\u001b[0m\u001b[1;33m(\u001b[0m\u001b[1;33m)\u001b[0m\u001b[1;33m\u001b[0m\u001b[1;33m\u001b[0m\u001b[0m\n\u001b[0m",
      "\u001b[1;32m~\\anaconda3\\envs\\deepn\\lib\\tkinter\\__init__.py\u001b[0m in \u001b[0;36mmainloop\u001b[1;34m(self, n)\u001b[0m\n\u001b[0;32m   1427\u001b[0m     \u001b[1;32mdef\u001b[0m \u001b[0mmainloop\u001b[0m\u001b[1;33m(\u001b[0m\u001b[0mself\u001b[0m\u001b[1;33m,\u001b[0m \u001b[0mn\u001b[0m\u001b[1;33m=\u001b[0m\u001b[1;36m0\u001b[0m\u001b[1;33m)\u001b[0m\u001b[1;33m:\u001b[0m\u001b[1;33m\u001b[0m\u001b[1;33m\u001b[0m\u001b[0m\n\u001b[0;32m   1428\u001b[0m         \u001b[1;34m\"\"\"Call the mainloop of Tk.\"\"\"\u001b[0m\u001b[1;33m\u001b[0m\u001b[1;33m\u001b[0m\u001b[0m\n\u001b[1;32m-> 1429\u001b[1;33m         \u001b[0mself\u001b[0m\u001b[1;33m.\u001b[0m\u001b[0mtk\u001b[0m\u001b[1;33m.\u001b[0m\u001b[0mmainloop\u001b[0m\u001b[1;33m(\u001b[0m\u001b[0mn\u001b[0m\u001b[1;33m)\u001b[0m\u001b[1;33m\u001b[0m\u001b[1;33m\u001b[0m\u001b[0m\n\u001b[0m\u001b[0;32m   1430\u001b[0m \u001b[1;33m\u001b[0m\u001b[0m\n\u001b[0;32m   1431\u001b[0m     \u001b[1;32mdef\u001b[0m \u001b[0mquit\u001b[0m\u001b[1;33m(\u001b[0m\u001b[0mself\u001b[0m\u001b[1;33m)\u001b[0m\u001b[1;33m:\u001b[0m\u001b[1;33m\u001b[0m\u001b[1;33m\u001b[0m\u001b[0m\n",
      "\u001b[1;31mKeyboardInterrupt\u001b[0m: "
     ]
    }
   ],
   "source": [
    "win.mainloop()"
   ]
  },
  {
   "cell_type": "code",
   "execution_count": null,
   "id": "0af8ee96",
   "metadata": {},
   "outputs": [],
   "source": []
  }
 ],
 "metadata": {
  "kernelspec": {
   "display_name": "Python 3 (ipykernel)",
   "language": "python",
   "name": "python3"
  },
  "language_info": {
   "codemirror_mode": {
    "name": "ipython",
    "version": 3
   },
   "file_extension": ".py",
   "mimetype": "text/x-python",
   "name": "python",
   "nbconvert_exporter": "python",
   "pygments_lexer": "ipython3",
   "version": "3.9.7"
  }
 },
 "nbformat": 4,
 "nbformat_minor": 5
}
