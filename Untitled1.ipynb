{
 "cells": [
  {
   "cell_type": "code",
   "execution_count": 1,
   "id": "342e144e",
   "metadata": {},
   "outputs": [],
   "source": [
    "import numpy as np\n",
    "import tensorflow as tf\n",
    "import tkinter as tk\n",
    "from tkinter import filedialog\n",
    "from PIL import Image, ImageTk\n",
    "import winsound\n",
    "from gtts import gTTS\n",
    "import playsound\n",
    "import os"
   ]
  },
  {
   "cell_type": "code",
   "execution_count": 2,
   "id": "7eb6567d",
   "metadata": {},
   "outputs": [],
   "source": [
    "cnn = tf.keras.models.load_model('D:/model/my_cnn_for_deploy.h5')"
   ]
  },
  {
   "cell_type": "code",
   "execution_count": 3,
   "id": "9e51e70d",
   "metadata": {},
   "outputs": [],
   "source": [
    "class_names_en=['airplane','automobile','bird','cat','deer','dog','frog','horse','ship','truck'] # CIFAR-10의 부류 이름(영어)\n",
    "class_names_fr=['avion','voiture','oiseau','chatte','biche','chienne','grenouille','jument','navire','un camion'] # CIFAR-10의 부류 이름(프랑스어)\n",
    "class_names_de=['Flugzeug','Automobil','Vogel','Katze','Hirsch','Hund','Frosch','Pferd','Schiff','LKW'] # CIFAR-10의 부류 이름(독일어)"
   ]
  },
  {
   "cell_type": "code",
   "execution_count": 4,
   "id": "024bcec1",
   "metadata": {},
   "outputs": [],
   "source": [
    "class_id = 0\n",
    "tk_img = ''"
   ]
  },
  {
   "cell_type": "code",
   "execution_count": 5,
   "id": "d095d887",
   "metadata": {},
   "outputs": [],
   "source": [
    "#fname = filedialog.askopenfilename()  확인용"
   ]
  },
  {
   "cell_type": "code",
   "execution_count": 6,
   "id": "bdb11481",
   "metadata": {},
   "outputs": [],
   "source": [
    "# 사용자가 선택한 영상을 인식하고 결과를 저장\n",
    "def process_image():\n",
    "  global class_id, tk_img     # 함수외부에서 선언한 변수를 사용하기 위해 global 예약어를 사용\n",
    "  # filedialog를 통해 파일을 선택   \n",
    "  fname = filedialog.askopenfilename()\n",
    "  img =  Image.open(fname)\n",
    "  tk_img = img.resize([128,128])\n",
    "  tk_img =  ImageTk.PhotoImage(tk_img)\n",
    "  canvas.create_image( (canvas.winfo_width()/2, canvas.winfo_height()/2),\n",
    "                      image = tk_img, anchor='center' )\n",
    "\n",
    "  x_test=[]\n",
    "  x = np.asarray(img.resize([32,32])) / 255.0\n",
    "  x_test.append(x)\n",
    "  x_test = np.asarray(x_test)\n",
    "  res = cnn.predict(x_test)   # 영상 인식\n",
    "  class_id = np.argmax(res)\n",
    "  # 레이블 텍스트\n",
    "  label_en['text'] = '영어 : ' + class_names_en[class_id]\n",
    "  label_fr['text'] = '프랑스어 : ' + class_names_fr[class_id]\n",
    "  label_de['text'] = '독일어 : ' + class_names_de[class_id]"
   ]
  },
  {
   "cell_type": "code",
   "execution_count": 12,
   "id": "726e1538",
   "metadata": {},
   "outputs": [],
   "source": [
    "# speak en\n",
    "def tts_english():\n",
    "    tts = gTTS(text=class_names_en[class_id],lang='en')\n",
    "    if os.path.isfile(\"word.mp3\") : os.remove('word.mp3')\n",
    "    tts.save('word.mp3')  \n",
    "    playsound.playsound('word.mp3', True)\n",
    "# speak fr\n",
    "def tts_french():\n",
    "    tts = gTTS(text=class_names_fr[class_id],lang='fr')\n",
    "    if os.path.isfile(\"word.mp3\") : os.remove('word.mp3')\n",
    "    tts.save('word.mp3')  \n",
    "    playsound.playsound('word.mp3', True)\n",
    "# speak de\n",
    "def tts_deutsch():\n",
    "    tts = gTTS(text=class_names_de[class_id],lang='de')\n",
    "    if os.path.isfile(\"word.mp3\") : os.remove('word.mp3')\n",
    "    tts.save('word.mp3')  \n",
    "    playsound.playsound('word.mp3', True)\n",
    "    "
   ]
  },
  {
   "cell_type": "code",
   "execution_count": 13,
   "id": "ff696847",
   "metadata": {},
   "outputs": [],
   "source": [
    "def quit_window():  # 프로그램 종료\n",
    "    win.destroy()"
   ]
  },
  {
   "cell_type": "code",
   "execution_count": 21,
   "id": "3ec15c42",
   "metadata": {},
   "outputs": [
    {
     "data": {
      "text/plain": [
       "''"
      ]
     },
     "execution_count": 21,
     "metadata": {},
     "output_type": "execute_result"
    }
   ],
   "source": [
    "win = tk.Tk()\n",
    "win.title('다국어 단어 공부')\n",
    "win.geometry('512x500')"
   ]
  },
  {
   "cell_type": "code",
   "execution_count": 22,
   "id": "390a076a",
   "metadata": {},
   "outputs": [],
   "source": [
    "# 함수와 GUI 프로그램의 버튼을 연결  -- 이벤트(액션) 핸들러(함수) 등록\n",
    "process_button = tk.Button(win,text = '영상 선택',command = process_image)\n",
    "quit_button = tk.Button(win,text = '종료',command = quit_window)\n",
    "en_button = tk.Button(win,text = '듣기',command = tts_english)\n",
    "fr_button = tk.Button(win,text = '듣기',command = tts_french)\n",
    "de_button = tk.Button(win,text = '듣기',command = tts_deutsch)\n",
    "\n",
    "canvas=tk.Canvas(win,width=253,height=256,bg='cyan',bd=4)\n",
    "label_en=tk.Label(win,width=16,height=1,bg='yellow',bd=4,text='영어',anchor='w')\n",
    "label_fr=tk.Label(win,width=16,height=1,bg='yellow',bd=4,text='프랑스어',anchor='w')\n",
    "label_de=tk.Label(win,width=16,height=1,bg='yellow',bd=4,text='독일어',anchor='w')\n",
    "\n",
    "# 위젯 배치\n",
    "process_button.grid(row=0,column=0)\n",
    "quit_button.grid(row=1,column=0)\n",
    "canvas.grid(row=0,column=1)\n",
    "label_en.grid(row=1,column=1,sticky='e')\n",
    "label_fr.grid(row=2,column=1,sticky='e')\n",
    "label_de.grid(row=3,column=1,sticky='e')\n",
    "en_button.grid(row=1,column=2,sticky='w')\n",
    "fr_button.grid(row=2,column=2,sticky='w')\n",
    "de_button.grid(row=3,column=2,sticky='w')"
   ]
  },
  {
   "cell_type": "code",
   "execution_count": 23,
   "id": "90a20a0a",
   "metadata": {},
   "outputs": [],
   "source": [
    "win.mainloop() # 파이썬 gui 실행"
   ]
  },
  {
   "cell_type": "code",
   "execution_count": null,
   "id": "189f148a",
   "metadata": {},
   "outputs": [],
   "source": []
  }
 ],
 "metadata": {
  "kernelspec": {
   "display_name": "Python 3 (ipykernel)",
   "language": "python",
   "name": "python3"
  },
  "language_info": {
   "codemirror_mode": {
    "name": "ipython",
    "version": 3
   },
   "file_extension": ".py",
   "mimetype": "text/x-python",
   "name": "python",
   "nbconvert_exporter": "python",
   "pygments_lexer": "ipython3",
   "version": "3.9.7"
  }
 },
 "nbformat": 4,
 "nbformat_minor": 5
}
