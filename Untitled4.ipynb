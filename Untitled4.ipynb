{
 "cells": [
  {
   "cell_type": "code",
   "execution_count": 79,
   "id": "5d9594a6",
   "metadata": {},
   "outputs": [],
   "source": [
    "from webdriver_manager.chrome import ChromeDriverManager\n",
    "from selenium.webdriver.chrome.options import Options\n",
    "from selenium import webdriver    # 라이브러리에서 사용하는 모듈만 호출\n",
    "from selenium.webdriver.common.by import By\n",
    "import pandas as pd\n",
    "from selenium.common.exceptions import StaleElementReferenceException\n",
    "from selenium.common.exceptions import NoSuchElementException\n",
    "from selenium.webdriver.support import expected_conditions as EC\n",
    "from selenium.webdriver.support.ui import WebDriverWait\n",
    "from functools import reduce\n",
    "from queue import Queue\n",
    "import csv\n",
    "import os"
   ]
  },
  {
   "cell_type": "code",
   "execution_count": 80,
   "id": "03151fb4",
   "metadata": {},
   "outputs": [],
   "source": [
    "def gettering(q):     #매개변수가 없으면 None   \n",
    "    result = []\n",
    "    visitedQ = set()\n",
    "    while len(q):         # QUEUE가 비어 있을때 까지 계속\n",
    "        try:\n",
    "            q =  q - visitedQ  # 방문했던 링크를 다시 쌓이는 것을 방지            \n",
    "            link1 = q.pop()     #큐에서 가져온다\n",
    "            visitedQ.add(link1)\n",
    "            driver.get(link1)\n",
    "            \n",
    "            elems = driver.find_element_by_css_selector('div.Box.mb-3')\n",
    "            elems = elems.find_elements_by_css_selector('a.js-navigation-open.Link--primary')\n",
    "            for lnk in elems:\n",
    "                temp = lnk.get_attribute('href')\n",
    "#                 print('temp : ' , temp)\n",
    "                if temp.replace(\" \",\"\").lower().endswith('.ipynb') or temp.replace(\" \",\"\").lower().endswith('.py'):\n",
    "                    print(temp)\n",
    "                    result.append(temp)\n",
    "                else:\n",
    "                    q.add(temp)\n",
    "        except NoSuchElementException as e:\n",
    "            try:\n",
    "                elems = driver.find_element_by_css_selector('h3.f3.color-fg-muted.text-normal.lh-condensed')\n",
    "                elems = elems.find_elements_by_tag_name(\"a\")\n",
    "                for lnk in elems:\n",
    "                    temp = lnk.get_attribute('href')\n",
    "#                     print('temp : ' , temp)\n",
    "                    if temp.replace(\" \",\"\").lower().endswith('.ipynb') or temp.replace(\" \",\"\").lower().endswith('.py'):\n",
    "                        print(temp)\n",
    "                        result.append(temp)\n",
    "                    else:\n",
    "                        q.add(temp)\n",
    "            except Exception as e:\n",
    "                pass\n",
    "        except Exception as e:\n",
    "            pass\n",
    "    return result"
   ]
  },
  {
   "cell_type": "code",
   "execution_count": 85,
   "id": "4933ec3c",
   "metadata": {},
   "outputs": [
    {
     "name": "stderr",
     "output_type": "stream",
     "text": [
      "\n",
      "\n",
      "====== WebDriver manager ======\n",
      "Current google-chrome version is 96.0.4664\n",
      "Get LATEST chromedriver version for 96.0.4664 google-chrome\n",
      "Driver [C:\\Users\\User\\.wdm\\drivers\\chromedriver\\win32\\96.0.4664.45\\chromedriver.exe] found in cache\n",
      "C:\\Users\\User\\AppData\\Local\\Temp/ipykernel_13060/1437505340.py:3: DeprecationWarning: executable_path has been deprecated, please pass in a Service object\n",
      "  driver = webdriver.Chrome(ChromeDriverManager().install(), chrome_options=options)\n",
      "C:\\Users\\User\\AppData\\Local\\Temp/ipykernel_13060/1437505340.py:3: DeprecationWarning: use options instead of chrome_options\n",
      "  driver = webdriver.Chrome(ChromeDriverManager().install(), chrome_options=options)\n"
     ]
    },
    {
     "name": "stdout",
     "output_type": "stream",
     "text": [
      "추천시스템 github - Google 검색\n"
     ]
    }
   ],
   "source": [
    "options = Options()\n",
    "options.add_argument(\"start-maximized\")\n",
    "driver = webdriver.Chrome(ChromeDriverManager().install(), chrome_options=options)\n",
    "\n",
    "driver.get('http://www.google.com')\n",
    "\n",
    "q = driver.find_element(By.NAME, 'q')\n",
    "q.send_keys('neural network recommender system python github')\n",
    "q.submit()\n",
    "\n",
    "print( driver.title)"
   ]
  },
  {
   "cell_type": "code",
   "execution_count": 86,
   "id": "1b2ae9b9",
   "metadata": {
    "scrolled": true
   },
   "outputs": [
    {
     "name": "stderr",
     "output_type": "stream",
     "text": [
      "C:\\Users\\User\\AppData\\Local\\Temp/ipykernel_13060/431053100.py:28: DeprecationWarning: find_elements_by_* commands are deprecated. Please use find_elements() instead\n",
      "  contents = driver.find_elements_by_class_name(\"yuRUbf\")\n",
      "C:\\Users\\User\\AppData\\Local\\Temp/ipykernel_13060/431053100.py:6: DeprecationWarning: find_element_by_* commands are deprecated. Please use find_element() instead\n",
      "  next = driver.find_element_by_xpath('//*[@id=\"pnnext\"]/span[2]')\n"
     ]
    }
   ],
   "source": [
    "class NextPageNotExist(Exception):\n",
    "    def __str__(self):\n",
    "        return 'no more exist next page'\n",
    "def nextPage():    \n",
    "    try:\n",
    "        next = driver.find_element_by_xpath('//*[@id=\"pnnext\"]/span[2]')\n",
    "        next.click()  \n",
    "    except:\n",
    "        raise NextPageNotExist       \n",
    "# 링크 추출\n",
    "def findTag(element):\n",
    "    atag = element.find_element_by_tag_name('a')\n",
    "    return atag.get_attribute('href')\n",
    "# 제목과 링크 추출\n",
    "def getTitleLinkPage(contents):\n",
    "    titles, links = [],[]\n",
    "    for content in contents:        \n",
    "        title = content.find_element_by_tag_name('h3')        \n",
    "        titles.append(title.text)\n",
    "        links.append(findTag(content))\n",
    "    return titles,links    \n",
    "\n",
    "# 제목과 링크로  DataFrame 만들기\n",
    "import pandas as pd\n",
    "titles, links = [],[]\n",
    "while True:\n",
    "    try:\n",
    "        contents = driver.find_elements_by_class_name(\"yuRUbf\")\n",
    "        title,link = getTitleLinkPage(contents)\n",
    "        titles.append(title)\n",
    "        links.append(link)\n",
    "        nextPage()\n",
    "    except NextPageNotExist:\n",
    "        break"
   ]
  },
  {
   "cell_type": "code",
   "execution_count": 89,
   "id": "0c7ac943",
   "metadata": {},
   "outputs": [
    {
     "data": {
      "text/plain": [
       "['https://github.com/topics/neural-collaborative-filtering',\n",
       " 'https://github.com/lsjsj92/recommender_system_with_Python',\n",
       " 'https://github.com/tsinghua-fib-lab/GNN-Recommender-Systems',\n",
       " 'https://github.com/wubinzzu/NeuRec',\n",
       " 'https://github.com/topics/recommendation-system',\n",
       " 'https://github.com/topics/recommender-systems',\n",
       " 'https://github.com/topics/recommender-system',\n",
       " 'https://github.com/nikitaa30/Recommender-Systems',\n",
       " 'https://github.com/piyushpathak03/Recommendation-systems',\n",
       " 'https://github.com/rn5l/session-rec']"
      ]
     },
     "execution_count": 89,
     "metadata": {},
     "output_type": "execute_result"
    }
   ],
   "source": [
    "newLinks = reduce(lambda x,y : x+y,links)\n",
    "newNames = reduce(lambda x,y : x+y,titles)\n",
    "newLinks[0:10]"
   ]
  },
  {
   "cell_type": "code",
   "execution_count": null,
   "id": "01bc5f41",
   "metadata": {
    "scrolled": true
   },
   "outputs": [
    {
     "name": "stderr",
     "output_type": "stream",
     "text": [
      "C:\\Users\\User\\AppData\\Local\\Temp/ipykernel_13060/2071700293.py:11: DeprecationWarning: find_element_by_* commands are deprecated. Please use find_element() instead\n",
      "  elems = driver.find_element_by_css_selector('div.Box.mb-3')\n",
      "C:\\Users\\User\\AppData\\Local\\Temp/ipykernel_13060/2071700293.py:23: DeprecationWarning: find_element_by_* commands are deprecated. Please use find_element() instead\n",
      "  elems = driver.find_element_by_css_selector('h3.f3.color-fg-muted.text-normal.lh-condensed')\n",
      "C:\\Users\\User\\anaconda3\\envs\\deep2\\lib\\site-packages\\selenium\\webdriver\\remote\\webelement.py:359: UserWarning: find_elements_by_* commands are deprecated. Please use find_elements() instead\n",
      "  warnings.warn(\"find_elements_by_* commands are deprecated. Please use find_elements() instead\")\n"
     ]
    },
    {
     "name": "stdout",
     "output_type": "stream",
     "text": [
      "https://github.com/rdevooght/sequence-based-recommendations/blob/master/__init__.py\n",
      "https://github.com/rdevooght/sequence-based-recommendations/blob/master/preprocess.py\n",
      "https://github.com/rdevooght/sequence-based-recommendations/blob/master/test.py\n",
      "https://github.com/rdevooght/sequence-based-recommendations/blob/master/train.py\n",
      "https://github.com/rdevooght/sequence-based-recommendations/blob/master/word2vec/__init__.py\n",
      "https://github.com/rdevooght/sequence-based-recommendations/blob/master/word2vec/ltm.py\n",
      "https://github.com/cheungdaven/DeepRec/blob/master/utils/__init__.py\n",
      "https://github.com/cheungdaven/DeepRec/blob/master/utils/config/config.py\n",
      "https://github.com/OweysMomenzada/Graph-Neural-Networks-for-effecient-Recommender-Systems/blob/main/Experiments/Douban/GCMC-Douban.ipynb\n",
      "https://github.com/rn5l/session-rec/blob/master/run_config.py\n",
      "https://github.com/rn5l/session-rec/blob/master/run_preprocessing.py\n",
      "https://github.com/rn5l/session-rec/blob/master/evaluation/__init__.py\n",
      "https://github.com/rn5l/session-rec/blob/master/evaluation/evaluation.py\n",
      "https://github.com/rn5l/session-rec/blob/master/evaluation/evaluation_last.py\n",
      "https://github.com/rn5l/session-rec/blob/master/evaluation/evaluation_multiple.py\n",
      "https://github.com/rn5l/session-rec/blob/master/evaluation/evaluation_next_multiple.py\n",
      "https://github.com/rn5l/session-rec/blob/master/evaluation/evaluation_user_based.py\n",
      "https://github.com/rn5l/session-rec/blob/master/evaluation/loader.py\n",
      "https://github.com/rposhala/Recommender-System-on-MovieLens-dataset/blob/main/Item_based_Collaborative_Recommender_System_using_KNN.ipynb\n",
      "https://github.com/rposhala/Recommender-System-on-MovieLens-dataset/blob/main/Knowledge_based_Recommender_System.ipynb\n",
      "https://github.com/rposhala/Recommender-System-on-MovieLens-dataset/blob/main/Recommender_System_using_SVD.ipynb\n",
      "https://github.com/rposhala/Recommender-System-on-MovieLens-dataset/blob/main/Recommender_System_using_Softmax_DNN.ipynb\n",
      "https://github.com/CRIPAC-DIG/SR-GNN/blob/master/datasets/preprocess.py\n",
      "https://github.com/rdevooght/sequence-based-recommendations/blob/master/helpers/__init__.py\n",
      "https://github.com/rdevooght/sequence-based-recommendations/blob/master/helpers/command_parser.py\n",
      "https://github.com/rdevooght/sequence-based-recommendations/blob/master/helpers/data_handling.py\n",
      "https://github.com/rdevooght/sequence-based-recommendations/blob/master/helpers/early_stopping.py\n",
      "https://github.com/rdevooght/sequence-based-recommendations/blob/master/helpers/evaluation.py\n",
      "https://github.com/rdevooght/sequence-based-recommendations/blob/master/helpers/sparse_layer.py\n",
      "https://github.com/rn5l/session-rec/blob/master/evaluation/metrics/__init__.py\n",
      "https://github.com/rn5l/session-rec/blob/master/evaluation/metrics/accuracy.py\n",
      "https://github.com/rn5l/session-rec/blob/master/evaluation/metrics/accuracy_ext.py\n",
      "https://github.com/rn5l/session-rec/blob/master/evaluation/metrics/accuracy_multiple.py\n",
      "https://github.com/rn5l/session-rec/blob/master/evaluation/metrics/artist_coherence.py\n",
      "https://github.com/rn5l/session-rec/blob/master/evaluation/metrics/artist_diversity.py\n",
      "https://github.com/rn5l/session-rec/blob/master/evaluation/metrics/coverage.py\n",
      "https://github.com/rn5l/session-rec/blob/master/evaluation/metrics/popularity.py\n",
      "https://github.com/rn5l/session-rec/blob/master/evaluation/metrics/saver.py\n",
      "https://github.com/rn5l/session-rec/blob/master/evaluation/metrics/time_memory_usage.py\n",
      "https://github.com/rdevooght/sequence-based-recommendations/blob/master/lazy/__init__.py\n",
      "https://github.com/rdevooght/sequence-based-recommendations/blob/master/lazy/lazy.py\n",
      "https://github.com/rdevooght/sequence-based-recommendations/blob/master/lazy/markov_model.py\n",
      "https://github.com/rdevooght/sequence-based-recommendations/blob/master/lazy/pop.py\n",
      "https://github.com/rdevooght/sequence-based-recommendations/blob/master/lazy/user_knn.py\n",
      "https://github.com/rdevooght/sequence-based-recommendations/blob/master/lazy/utils.py\n",
      "https://github.com/piyushpathak03/Recommendation-systems/blob/master/Collaborative%20Filtering.ipynb\n",
      "https://github.com/piyushpathak03/Recommendation-systems/blob/master/Market%20Basket%20Analysis.ipynb\n",
      "https://github.com/OweysMomenzada/Graph-Neural-Networks-for-effecient-Recommender-Systems/blob/main/Experiments/AmazonReview/GCMC-AmazonReview.ipynb\n",
      "https://github.com/microsoft/recommenders/blob/main/setup.py\n",
      "https://github.com/microsoft/recommenders/blob/main/tests/__init__.py\n",
      "https://github.com/microsoft/recommenders/blob/main/tests/conftest.py\n",
      "https://github.com/microsoft/recommenders/blob/main/tests/smoke/__init__.py\n",
      "https://github.com/microsoft/recommenders/blob/main/tests/smoke/examples/__init__.py\n",
      "https://github.com/microsoft/recommenders/blob/main/tests/smoke/examples/test_notebooks_gpu.py\n",
      "https://github.com/microsoft/recommenders/blob/main/tests/smoke/examples/test_notebooks_pyspark.py\n",
      "https://github.com/microsoft/recommenders/blob/main/tests/smoke/examples/test_notebooks_python.py\n",
      "https://github.com/microsoft/recommenders/blob/main/tests/smoke/recommenders/__init__.py\n",
      "https://github.com/microsoft/recommenders/blob/main/recommenders/__init__.py\n",
      "https://github.com/microsoft/recommenders/blob/main/recommenders/evaluation/__init__.py\n",
      "https://github.com/microsoft/recommenders/blob/main/recommenders/evaluation/python_evaluation.py\n",
      "https://github.com/microsoft/recommenders/blob/main/recommenders/evaluation/spark_evaluation.py\n",
      "https://github.com/microsoft/recommenders/blob/main/recommenders/tuning/__init__.py\n",
      "https://github.com/microsoft/recommenders/blob/main/recommenders/tuning/parameter_sweep.py\n",
      "https://github.com/microsoft/recommenders/blob/main/recommenders/tuning/nni/__init__.py\n",
      "https://github.com/microsoft/recommenders/blob/main/recommenders/tuning/nni/ncf_training.py\n",
      "https://github.com/microsoft/recommenders/blob/main/recommenders/tuning/nni/ncf_utils.py\n",
      "https://github.com/microsoft/recommenders/blob/main/recommenders/tuning/nni/nni_utils.py\n",
      "https://github.com/microsoft/recommenders/blob/main/recommenders/tuning/nni/svd_training.py\n",
      "https://github.com/microsoft/recommenders/blob/main/recommenders/datasets/__init__.py\n",
      "https://github.com/microsoft/recommenders/blob/main/recommenders/datasets/amazon_reviews.py\n",
      "https://github.com/microsoft/recommenders/blob/main/recommenders/datasets/cosmos_cli.py\n",
      "https://github.com/microsoft/recommenders/blob/main/recommenders/datasets/covid_utils.py\n",
      "https://github.com/microsoft/recommenders/blob/main/recommenders/datasets/criteo.py\n",
      "https://github.com/microsoft/recommenders/blob/main/recommenders/datasets/download_utils.py\n",
      "https://github.com/microsoft/recommenders/blob/main/recommenders/datasets/mind.py\n",
      "https://github.com/microsoft/recommenders/blob/main/recommenders/datasets/movielens.py\n",
      "https://github.com/microsoft/recommenders/blob/main/recommenders/datasets/pandas_df_utils.py\n",
      "https://github.com/microsoft/recommenders/blob/main/recommenders/datasets/python_splitters.py\n",
      "https://github.com/microsoft/recommenders/blob/main/recommenders/datasets/spark_splitters.py\n",
      "https://github.com/microsoft/recommenders/blob/main/recommenders/datasets/sparse.py\n",
      "https://github.com/microsoft/recommenders/blob/main/recommenders/datasets/split_utils.py\n",
      "https://github.com/microsoft/recommenders/blob/main/recommenders/datasets/wikidata.py\n",
      "https://github.com/microsoft/recommenders/blob/main/tests/smoke/recommenders/recommender/__init__.py\n",
      "https://github.com/microsoft/recommenders/blob/main/tests/smoke/recommenders/recommender/test_deeprec_model.py\n",
      "https://github.com/microsoft/recommenders/blob/main/tests/smoke/recommenders/recommender/test_deeprec_utils.py\n",
      "https://github.com/microsoft/recommenders/blob/main/tests/smoke/recommenders/recommender/test_newsrec_model.py\n",
      "https://github.com/microsoft/recommenders/blob/main/tests/smoke/recommenders/recommender/test_newsrec_utils.py\n",
      "https://github.com/OweysMomenzada/Graph-Neural-Networks-for-effecient-Recommender-Systems/blob/main/Experiments/Yahoo%20Music/GCMC-Yahoo%20Music.ipynb\n",
      "https://github.com/cheungdaven/DeepRec/blob/master/models/__init__.py\n",
      "https://github.com/cheungdaven/DeepRec/blob/master/models/seq_rec/AttRec.py\n",
      "https://github.com/cheungdaven/DeepRec/blob/master/models/seq_rec/Caser.py\n",
      "https://github.com/cheungdaven/DeepRec/blob/master/models/seq_rec/PRME.py\n",
      "https://github.com/cheungdaven/DeepRec/blob/master/models/seq_rec/gru4rec.py\n"
     ]
    },
    {
     "name": "stdout",
     "output_type": "stream",
     "text": [
      "https://github.com/jaewonlee-728/fastcampus-RecSys/blob/master/02-Basic-Recommender-System/01-%EC%BB%A8%ED%85%90%EC%B8%A0%EA%B8%B0%EB%B0%98-06-TF-IDF%20%EC%8B%A4%EC%8A%B5.ipynb\n",
      "https://github.com/jaewonlee-728/fastcampus-RecSys/blob/master/02-Basic-Recommender-System/01_%EC%BB%A8%ED%85%90%EC%B8%A0%EA%B8%B0%EB%B0%98_07_TF_IDF%EB%A1%9C_%EC%B6%94%EC%B2%9C%EC%95%8C%EA%B3%A0%EB%A6%AC%EC%A6%98_%EB%A7%8C%EB%93%A4%EA%B8%B0.ipynb\n",
      "https://github.com/jaewonlee-728/fastcampus-RecSys/blob/master/02-Basic-Recommender-System/02_%EC%9D%B4%EC%9B%83%EA%B8%B0%EB%B0%98_%ED%98%91%EC%97%85%ED%95%84%ED%84%B0%EB%A7%81_04_%EC%9D%B4%EC%9B%83%EA%B8%B0%EB%B0%98_%ED%98%91%EC%97%85%ED%95%84%ED%84%B0%EB%A7%81_%EA%B5%AC%ED%98%84%ED%95%98%EA%B8%B0.ipynb\n",
      "https://github.com/jaewonlee-728/fastcampus-RecSys/blob/master/02-Basic-Recommender-System/03-%EB%AA%A8%EB%8D%B8%EA%B8%B0%EB%B0%98%20%ED%98%91%EC%97%85%ED%95%84%ED%84%B0%EB%A7%81-07-Matrix%20Factorization%20%EC%8B%A4%EC%8A%B5.ipynb\n",
      "https://github.com/jaewonlee-728/fastcampus-RecSys/blob/master/02-Basic-Recommender-System/03-%EB%AA%A8%EB%8D%B8%EA%B8%B0%EB%B0%98%20%ED%98%91%EC%97%85%ED%95%84%ED%84%B0%EB%A7%81-08-%ED%98%91%EC%97%85%ED%95%84%ED%84%B0%EB%A7%81%20%EC%84%B1%EB%8A%A5%20%EB%B9%84%EA%B5%90%20%EB%B6%84%EC%84%9D%ED%95%98%EA%B8%B0.ipynb\n",
      "https://github.com/jaewonlee-728/fastcampus-RecSys/blob/master/04-Recommender-System-with-DeepLearning/01-%EB%94%A5%EB%9F%AC%EB%8B%9D%EA%B3%BC%20%EC%B6%94%EC%B2%9C%EC%95%8C%EA%B3%A0%EB%A6%AC%EC%A6%98-01-%EC%98%81%ED%99%94%EB%8D%B0%EC%9D%B4%ED%84%B0%EC%85%8B%20%EB%B9%84%EA%B5%90%20feat.%20MovieLens%2C%20Netflix%2C%20kmrd.ipynb\n",
      "https://github.com/jaewonlee-728/fastcampus-RecSys/blob/master/04-Recommender-System-with-DeepLearning/01-%EB%94%A5%EB%9F%AC%EB%8B%9D%EA%B3%BC%20%EC%B6%94%EC%B2%9C%EC%95%8C%EA%B3%A0%EB%A6%AC%EC%A6%98-03-Neural%20Collaborative%20Filtering%20%EC%8B%A4%EC%8A%B5.ipynb\n",
      "https://github.com/jaewonlee-728/fastcampus-RecSys/blob/master/04-Recommender-System-with-DeepLearning/01-%EB%94%A5%EB%9F%AC%EB%8B%9D%EA%B3%BC%20%EC%B6%94%EC%B2%9C%EC%95%8C%EA%B3%A0%EB%A6%AC%EC%A6%98-05-Factorization%20Machine%20%EC%8B%A4%EC%8A%B5.ipynb\n",
      "https://github.com/jaewonlee-728/fastcampus-RecSys/blob/master/04-Recommender-System-with-DeepLearning/01-%EB%94%A5%EB%9F%AC%EB%8B%9D%EA%B3%BC%20%EC%B6%94%EC%B2%9C%EC%95%8C%EA%B3%A0%EB%A6%AC%EC%A6%98-07-Wide_Deep%20Learning%20for%20Recommender%20System%20%EC%8B%A4%EC%8A%B5.ipynb\n",
      "https://github.com/jaewonlee-728/fastcampus-RecSys/blob/master/04-Recommender-System-with-DeepLearning/01-%EB%94%A5%EB%9F%AC%EB%8B%9D%EA%B3%BC%20%EC%B6%94%EC%B2%9C%EC%95%8C%EA%B3%A0%EB%A6%AC%EC%A6%98-09-DeepFM%20%EC%8B%A4%EC%8A%B5.ipynb\n",
      "https://github.com/jaewonlee-728/fastcampus-RecSys/blob/master/04-Recommender-System-with-DeepLearning/01-%EB%94%A5%EB%9F%AC%EB%8B%9D%EA%B3%BC%20%EC%B6%94%EC%B2%9C%EC%95%8C%EA%B3%A0%EB%A6%AC%EC%A6%98-11-AutoEncoder%20Meet%20Collaborative%20Filtering%20%EC%8B%A4%EC%8A%B5.ipynb\n",
      "https://github.com/jaewonlee-728/fastcampus-RecSys/blob/master/04-Recommender-System-with-DeepLearning/02-%EB%82%98%EB%A5%BC%20%EC%9C%84%ED%95%9C%20%EC%B6%94%EC%B2%9C%20%EC%95%8C%EA%B3%A0%EB%A6%AC%EC%A6%98-02-%EB%A6%AC%EB%B7%B0%EB%8D%B0%EC%9D%B4%ED%84%B0%EB%A1%9C%20%EC%B6%94%EC%B2%9C%EC%84%B1%EB%8A%A5%20%EB%81%8C%EC%96%B4%EC%98%AC%EB%A6%AC%EA%B8%B0.ipynb\n",
      "https://github.com/jaewonlee-728/fastcampus-RecSys/blob/master/04-Recommender-System-with-DeepLearning/02-%EB%82%98%EB%A5%BC%20%EC%9C%84%ED%95%9C%20%EC%B6%94%EC%B2%9C%20%EC%95%8C%EA%B3%A0%EB%A6%AC%EC%A6%98-04-%EC%83%81%ED%92%88%20%EC%9D%B4%EB%AF%B8%EC%A7%80%EB%A5%BC%20%EC%A0%81%EC%9A%A9%ED%95%98%EC%97%AC%20%EC%B6%94%EC%B2%9C%EC%95%8C%EA%B3%A0%EB%A6%AC%EC%A6%98%20%EC%8B%A4%EC%8A%B5%ED%95%98%EA%B8%B0.ipynb\n",
      "https://github.com/jaewonlee-728/fastcampus-RecSys/blob/master/04-Recommender-System-with-DeepLearning/02-%EB%82%98%EB%A5%BC%20%EC%9C%84%ED%95%9C%20%EC%B6%94%EC%B2%9C%20%EC%95%8C%EA%B3%A0%EB%A6%AC%EC%A6%98-06-%EB%93%A3%EA%B3%A0%EC%8B%B6%EC%9D%80%20%EC%9D%8C%EC%95%85%20%EC%B6%94%EC%B2%9C%EC%95%8C%EA%B3%A0%EB%A6%AC%EC%A6%98%20%EC%8B%A4%EC%8A%B5%ED%95%98%EA%B8%B0.ipynb\n",
      "https://github.com/rn5l/session-rec/blob/master/helper/__init__.py\n",
      "https://github.com/rn5l/session-rec/blob/master/helper/stats.py\n",
      "https://github.com/rn5l/session-rec/blob/master/helper/__init__.py\n",
      "https://github.com/rn5l/session-rec/blob/master/helper/stats.py\n",
      "https://github.com/guoguibing/librec/blob/3.0.0/bin/runall.py\n",
      "https://github.com/microsoft/recommenders/blob/main/tests/smoke/recommenders/dataset/__init__.py\n",
      "https://github.com/microsoft/recommenders/blob/main/tests/smoke/recommenders/dataset/test_criteo.py\n",
      "https://github.com/microsoft/recommenders/blob/main/tests/smoke/recommenders/dataset/test_mind.py\n",
      "https://github.com/microsoft/recommenders/blob/main/tests/smoke/recommenders/dataset/test_movielens.py\n",
      "https://github.com/microsoft/recommenders/blob/main/tests/ci/run_pytest.py\n",
      "https://github.com/microsoft/recommenders/blob/main/tests/ci/submit_azureml_pytest.py\n"
     ]
    }
   ],
   "source": [
    "q = set()\n",
    "for link in newLinks:\n",
    "    q.add(link)\n",
    "result = gettering(q)"
   ]
  },
  {
   "cell_type": "code",
   "execution_count": 59,
   "id": "5af790bc",
   "metadata": {},
   "outputs": [],
   "source": [
    "import pandas as pd\n",
    "d = {\n",
    "    'link' : result\n",
    "}\n",
    "df = pd.DataFrame(data=d)"
   ]
  },
  {
   "cell_type": "code",
   "execution_count": 71,
   "id": "2411f598",
   "metadata": {},
   "outputs": [],
   "source": [
    "df.to_csv('test.csv',index=False)"
   ]
  },
  {
   "cell_type": "code",
   "execution_count": 70,
   "id": "5905b86a",
   "metadata": {},
   "outputs": [
    {
     "data": {
      "text/plain": [
       "0      https://github.com/openjdk/jdk/blob/master/src...\n",
       "1      https://github.com/openjdk/jdk/blob/master/src...\n",
       "2      https://github.com/openjdk/jdk/blob/master/src...\n",
       "3      https://github.com/openjdk/jdk/blob/master/src...\n",
       "4      https://github.com/openjdk/jdk/blob/master/src...\n",
       "                             ...                        \n",
       "112    https://github.com/openjdk/jdk/blob/master/src...\n",
       "113    https://github.com/openjdk/jdk/blob/master/tes...\n",
       "114    https://github.com/openjdk/jdk/blob/master/tes...\n",
       "115    https://github.com/openjdk/jdk/blob/master/tes...\n",
       "116    https://github.com/openjdk/jdk/blob/master/tes...\n",
       "Name: link, Length: 117, dtype: object"
      ]
     },
     "execution_count": 70,
     "metadata": {},
     "output_type": "execute_result"
    }
   ],
   "source": [
    "df2 = pd.read_csv('test.csv')\n",
    "df2['link']"
   ]
  },
  {
   "cell_type": "code",
   "execution_count": 78,
   "id": "63cae0af",
   "metadata": {},
   "outputs": [
    {
     "name": "stdout",
     "output_type": "stream",
     "text": [
      "['https://github.com/openjdk/jdk/blob/master/src/java.net.http/share/classes/module-info.java', 'https://github.com/openjdk/jdk/blob/master/src/java.base/share/classes/module-info.java', 'https://github.com/openjdk/jdk/blob/master/src/java.base/share/classes/jdk/internal/ValueBased.java', 'https://github.com/openjdk/jdk/blob/master/src/java.base/share/classes/jdk/internal/access/JavaAWTAccess.java', 'https://github.com/openjdk/jdk/blob/master/src/java.base/share/classes/jdk/internal/access/JavaAWTFontAccess.java', 'https://github.com/openjdk/jdk/blob/master/src/java.base/share/classes/jdk/internal/access/JavaBeansAccess.java', 'https://github.com/openjdk/jdk/blob/master/src/java.base/share/classes/jdk/internal/access/JavaIOAccess.java', 'https://github.com/openjdk/jdk/blob/master/src/java.base/share/classes/jdk/internal/access/JavaIOFileDescriptorAccess.java', 'https://github.com/openjdk/jdk/blob/master/src/java.base/share/classes/jdk/internal/access/JavaIOFilePermissionAccess.java', 'https://github.com/openjdk/jdk/blob/master/src/java.base/share/classes/jdk/internal/access/JavaIORandomAccessFileAccess.java', 'https://github.com/openjdk/jdk/blob/master/src/java.base/share/classes/jdk/internal/access/JavaLangAccess.java', 'https://github.com/openjdk/jdk/blob/master/src/java.base/share/classes/jdk/internal/access/JavaLangInvokeAccess.java', 'https://github.com/openjdk/jdk/blob/master/src/java.base/share/classes/jdk/internal/access/JavaLangModuleAccess.java', 'https://github.com/openjdk/jdk/blob/master/src/java.base/share/classes/jdk/internal/access/JavaLangRefAccess.java', 'https://github.com/openjdk/jdk/blob/master/src/java.base/share/classes/jdk/internal/access/JavaLangReflectAccess.java', 'https://github.com/openjdk/jdk/blob/master/src/java.base/share/classes/jdk/internal/access/JavaNetHttpCookieAccess.java', 'https://github.com/openjdk/jdk/blob/master/src/java.base/share/classes/jdk/internal/access/JavaNetInetAddressAccess.java', 'https://github.com/openjdk/jdk/blob/master/src/java.base/share/classes/jdk/internal/access/JavaNetURLAccess.java', 'https://github.com/openjdk/jdk/blob/master/src/java.base/share/classes/jdk/internal/access/JavaNetUriAccess.java', 'https://github.com/openjdk/jdk/blob/master/src/java.base/share/classes/jdk/internal/access/JavaNioAccess.java', 'https://github.com/openjdk/jdk/blob/master/src/java.base/share/classes/jdk/internal/access/JavaObjectInputFilterAccess.java', 'https://github.com/openjdk/jdk/blob/master/src/java.base/share/classes/jdk/internal/access/JavaObjectInputStreamAccess.java', 'https://github.com/openjdk/jdk/blob/master/src/java.base/share/classes/jdk/internal/access/JavaObjectInputStreamReadString.java', 'https://github.com/openjdk/jdk/blob/master/src/java.base/share/classes/jdk/internal/access/JavaSecurityAccess.java', 'https://github.com/openjdk/jdk/blob/master/src/java.base/share/classes/jdk/internal/access/JavaSecuritySignatureAccess.java', 'https://github.com/openjdk/jdk/blob/master/src/java.base/share/classes/jdk/internal/access/JavaSecuritySpecAccess.java', 'https://github.com/openjdk/jdk/blob/master/src/java.base/share/classes/jdk/internal/access/JavaUtilCollectionAccess.java', 'https://github.com/openjdk/jdk/blob/master/src/java.base/share/classes/jdk/internal/access/JavaUtilJarAccess.java', 'https://github.com/openjdk/jdk/blob/master/src/java.base/share/classes/jdk/internal/access/JavaUtilResourceBundleAccess.java', 'https://github.com/openjdk/jdk/blob/master/src/java.base/share/classes/jdk/internal/access/JavaUtilZipFileAccess.java', 'https://github.com/openjdk/jdk/blob/master/src/java.base/share/classes/jdk/internal/access/JavaxCryptoSealedObjectAccess.java', 'https://github.com/openjdk/jdk/blob/master/src/java.base/share/classes/jdk/internal/access/JavaxCryptoSpecAccess.java', 'https://github.com/openjdk/jdk/blob/master/src/java.base/share/classes/jdk/internal/access/SharedSecrets.java', 'https://github.com/openjdk/jdk/blob/master/src/java.transaction.xa/share/classes/module-info.java', 'https://github.com/openjdk/jdk/blob/master/src/java.management.rmi/share/classes/module-info.java', 'https://github.com/openjdk/jdk/blob/master/src/java.management.rmi/share/classes/javax/management/remote/rmi/NoCallStackClassLoader.java', 'https://github.com/openjdk/jdk/blob/master/src/java.management.rmi/share/classes/javax/management/remote/rmi/RMIConnection.java', 'https://github.com/openjdk/jdk/blob/master/src/java.management.rmi/share/classes/javax/management/remote/rmi/RMIConnectionImpl.java', 'https://github.com/openjdk/jdk/blob/master/src/java.management.rmi/share/classes/javax/management/remote/rmi/RMIConnectionImpl_Stub.java', 'https://github.com/openjdk/jdk/blob/master/src/java.management.rmi/share/classes/javax/management/remote/rmi/RMIConnector.java', 'https://github.com/openjdk/jdk/blob/master/src/java.management.rmi/share/classes/javax/management/remote/rmi/RMIConnectorServer.java', 'https://github.com/openjdk/jdk/blob/master/src/java.management.rmi/share/classes/javax/management/remote/rmi/RMIIIOPServerImpl.java', 'https://github.com/openjdk/jdk/blob/master/src/java.management.rmi/share/classes/javax/management/remote/rmi/RMIJRMPServerImpl.java', 'https://github.com/openjdk/jdk/blob/master/src/java.management.rmi/share/classes/javax/management/remote/rmi/RMIServer.java', 'https://github.com/openjdk/jdk/blob/master/src/java.management.rmi/share/classes/javax/management/remote/rmi/RMIServerImpl.java', 'https://github.com/openjdk/jdk/blob/master/src/java.management.rmi/share/classes/javax/management/remote/rmi/RMIServerImpl_Stub.java', 'https://github.com/openjdk/jdk/blob/master/src/jdk.editpad/share/classes/module-info.java', 'https://github.com/openjdk/jdk/blob/master/src/jdk.editpad/share/classes/jdk/editpad/EditPad.java', 'https://github.com/openjdk/jdk/blob/master/src/jdk.editpad/share/classes/jdk/editpad/EditPadProvider.java', 'https://github.com/openjdk/jdk/blob/master/src/java.scripting/share/classes/module-info.java', 'https://github.com/openjdk/jdk/blob/master/src/java.compiler/share/classes/module-info.java', 'https://github.com/openjdk/jdk/blob/master/src/java.base/share/classes/jdk/internal/vm/VMSupport.java', 'https://github.com/openjdk/jdk/blob/master/src/java.base/share/classes/jdk/internal/vm/annotation/Contended.java', 'https://github.com/openjdk/jdk/blob/master/src/java.base/share/classes/jdk/internal/vm/annotation/DontInline.java', 'https://github.com/openjdk/jdk/blob/master/src/java.base/share/classes/jdk/internal/vm/annotation/ForceInline.java', 'https://github.com/openjdk/jdk/blob/master/src/java.base/share/classes/jdk/internal/vm/annotation/Hidden.java', 'https://github.com/openjdk/jdk/blob/master/src/java.base/share/classes/jdk/internal/vm/annotation/IntrinsicCandidate.java', 'https://github.com/openjdk/jdk/blob/master/src/java.base/share/classes/jdk/internal/vm/annotation/ReservedStackAccess.java', 'https://github.com/openjdk/jdk/blob/master/src/java.base/share/classes/jdk/internal/vm/annotation/Stable.java', 'https://github.com/openjdk/jdk/blob/master/src/java.base/share/classes/java/security/AccessControlContext.java', 'https://github.com/openjdk/jdk/blob/master/src/java.base/share/classes/java/security/AccessControlException.java', 'https://github.com/openjdk/jdk/blob/master/src/java.base/share/classes/java/security/AccessController.java', 'https://github.com/openjdk/jdk/blob/master/src/java.base/share/classes/java/security/AlgorithmConstraints.java', 'https://github.com/openjdk/jdk/blob/master/src/java.base/share/classes/java/security/AlgorithmParameterGenerator.java', 'https://github.com/openjdk/jdk/blob/master/src/java.base/share/classes/java/security/AlgorithmParameterGeneratorSpi.java', 'https://github.com/openjdk/jdk/blob/master/src/java.base/share/classes/java/security/AlgorithmParameters.java', 'https://github.com/openjdk/jdk/blob/master/src/java.base/share/classes/java/security/AlgorithmParametersSpi.java', 'https://github.com/openjdk/jdk/blob/master/src/java.base/share/classes/java/security/AllPermission.java', 'https://github.com/openjdk/jdk/blob/master/src/java.base/share/classes/java/security/AuthProvider.java', 'https://github.com/openjdk/jdk/blob/master/src/java.base/share/classes/java/security/BasicPermission.java', 'https://github.com/openjdk/jdk/blob/master/src/java.base/share/classes/java/security/Certificate.java', 'https://github.com/openjdk/jdk/blob/master/src/java.base/share/classes/java/security/CodeSigner.java', 'https://github.com/openjdk/jdk/blob/master/src/java.base/share/classes/java/security/CodeSource.java', 'https://github.com/openjdk/jdk/blob/master/src/java.base/share/classes/java/security/CryptoPrimitive.java', 'https://github.com/openjdk/jdk/blob/master/src/java.base/share/classes/java/security/DigestException.java', 'https://github.com/openjdk/jdk/blob/master/src/java.base/share/classes/java/security/DigestInputStream.java', 'https://github.com/openjdk/jdk/blob/master/src/java.base/share/classes/java/security/DigestOutputStream.java', 'https://github.com/openjdk/jdk/blob/master/src/java.base/share/classes/java/security/DomainCombiner.java', 'https://github.com/openjdk/jdk/blob/master/src/java.base/share/classes/java/security/DomainLoadStoreParameter.java', 'https://github.com/openjdk/jdk/blob/master/src/java.base/share/classes/java/security/DrbgParameters.java', 'https://github.com/openjdk/jdk/blob/master/src/java.base/share/classes/java/security/GeneralSecurityException.java', 'https://github.com/openjdk/jdk/blob/master/src/java.base/share/classes/java/security/Guard.java', 'https://github.com/openjdk/jdk/blob/master/src/java.base/share/classes/java/security/GuardedObject.java', 'https://github.com/openjdk/jdk/blob/master/src/java.base/share/classes/java/security/Identity.java', 'https://github.com/openjdk/jdk/blob/master/src/java.base/share/classes/java/security/IdentityScope.java', 'https://github.com/openjdk/jdk/blob/master/src/java.base/share/classes/java/security/InvalidAlgorithmParameterException.java', 'https://github.com/openjdk/jdk/blob/master/src/java.base/share/classes/java/security/InvalidKeyException.java', 'https://github.com/openjdk/jdk/blob/master/src/java.base/share/classes/java/security/InvalidParameterException.java', 'https://github.com/openjdk/jdk/blob/master/src/java.base/share/classes/java/security/Key.java', 'https://github.com/openjdk/jdk/blob/master/src/java.base/share/classes/java/security/KeyException.java', 'https://github.com/openjdk/jdk/blob/master/src/java.base/share/classes/java/security/KeyFactory.java', 'https://github.com/openjdk/jdk/blob/master/src/java.base/share/classes/java/security/KeyFactorySpi.java', 'https://github.com/openjdk/jdk/blob/master/src/java.base/share/classes/java/security/KeyManagementException.java', 'https://github.com/openjdk/jdk/blob/master/src/java.base/share/classes/java/security/KeyPair.java', 'https://github.com/openjdk/jdk/blob/master/src/java.base/share/classes/java/security/KeyPairGenerator.java', 'https://github.com/openjdk/jdk/blob/master/src/java.base/share/classes/java/security/KeyPairGeneratorSpi.java', 'https://github.com/openjdk/jdk/blob/master/src/java.base/share/classes/java/security/KeyRep.java', 'https://github.com/openjdk/jdk/blob/master/src/java.base/share/classes/java/security/KeyStore.java', 'https://github.com/openjdk/jdk/blob/master/src/java.base/share/classes/java/security/KeyStoreException.java', 'https://github.com/openjdk/jdk/blob/master/src/java.base/share/classes/java/security/KeyStoreSpi.java', 'https://github.com/openjdk/jdk/blob/master/src/java.prefs/share/classes/module-info.java', 'https://github.com/openjdk/jdk/blob/master/src/java.prefs/share/classes/java/util/prefs/AbstractPreferences.java', 'https://github.com/openjdk/jdk/blob/master/src/java.prefs/share/classes/java/util/prefs/BackingStoreException.java', 'https://github.com/openjdk/jdk/blob/master/src/java.prefs/share/classes/java/util/prefs/Base64.java', 'https://github.com/openjdk/jdk/blob/master/src/java.prefs/share/classes/java/util/prefs/InvalidPreferencesFormatException.java', 'https://github.com/openjdk/jdk/blob/master/src/java.prefs/share/classes/java/util/prefs/NodeChangeEvent.java', 'https://github.com/openjdk/jdk/blob/master/src/java.prefs/share/classes/java/util/prefs/NodeChangeListener.java', 'https://github.com/openjdk/jdk/blob/master/src/java.prefs/share/classes/java/util/prefs/PreferenceChangeEvent.java', 'https://github.com/openjdk/jdk/blob/master/src/java.prefs/share/classes/java/util/prefs/PreferenceChangeListener.java', 'https://github.com/openjdk/jdk/blob/master/src/java.prefs/share/classes/java/util/prefs/Preferences.java', 'https://github.com/openjdk/jdk/blob/master/src/java.prefs/share/classes/java/util/prefs/PreferencesFactory.java', 'https://github.com/openjdk/jdk/blob/master/src/java.prefs/share/classes/java/util/prefs/XmlSupport.java', 'https://github.com/openjdk/jdk/blob/master/src/java.prefs/share/classes/java/util/prefs/package-info.java', 'https://github.com/openjdk/jdk/blob/master/test/lib-test/RedefineClassTest.java', 'https://github.com/openjdk/jdk/blob/master/test/lib/RedefineClassHelper.java', 'https://github.com/openjdk/jdk/blob/master/test/lib/jtreg/SkippedException.java', 'https://github.com/openjdk/jdk/blob/master/test/lib/sun/hotspot/WhiteBox.java']\n"
     ]
    }
   ],
   "source": [
    "resolve = []\n",
    "with open('test.csv') as csvfile:\n",
    "    \n",
    "    temp = csv.reader(csvfile)\n",
    "    for t in temp:\n",
    "        resolve.append(t)\n",
    "\n",
    "newresolve = reduce(lambda x,y : x+y, resolve)\n",
    "del newresolve[0]\n",
    "print(newresolve)"
   ]
  },
  {
   "cell_type": "code",
   "execution_count": null,
   "id": "f81fd960",
   "metadata": {},
   "outputs": [],
   "source": []
  }
 ],
 "metadata": {
  "kernelspec": {
   "display_name": "Python 3 (ipykernel)",
   "language": "python",
   "name": "python3"
  },
  "language_info": {
   "codemirror_mode": {
    "name": "ipython",
    "version": 3
   },
   "file_extension": ".py",
   "mimetype": "text/x-python",
   "name": "python",
   "nbconvert_exporter": "python",
   "pygments_lexer": "ipython3",
   "version": "3.9.7"
  }
 },
 "nbformat": 4,
 "nbformat_minor": 5
}
