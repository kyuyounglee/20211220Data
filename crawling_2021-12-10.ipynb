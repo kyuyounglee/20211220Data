{
 "cells": [
  {
   "cell_type": "code",
   "execution_count": 2,
   "id": "9e386e88",
   "metadata": {},
   "outputs": [
    {
     "name": "stdout",
     "output_type": "stream",
     "text": [
      "Collecting bs4\n",
      "  Using cached bs4-0.0.1.tar.gz (1.1 kB)\n",
      "Collecting beautifulsoup4\n",
      "  Downloading beautifulsoup4-4.10.0-py3-none-any.whl (97 kB)\n",
      "Collecting soupsieve>1.2\n",
      "  Downloading soupsieve-2.3.1-py3-none-any.whl (37 kB)\n",
      "Building wheels for collected packages: bs4\n",
      "  Building wheel for bs4 (setup.py): started\n",
      "  Building wheel for bs4 (setup.py): finished with status 'done'\n",
      "  Created wheel for bs4: filename=bs4-0.0.1-py3-none-any.whl size=1271 sha256=d3940da8528cb32acae9fa99cd447af1c002665d2b4865b0030f5007f6a83f15\n",
      "  Stored in directory: c:\\users\\user\\appdata\\local\\pip\\cache\\wheels\\73\\2b\\cb\\099980278a0c9a3e57ff1a89875ec07bfa0b6fcbebb9a8cad3\n",
      "Successfully built bs4\n",
      "Installing collected packages: soupsieve, beautifulsoup4, bs4\n",
      "Successfully installed beautifulsoup4-4.10.0 bs4-0.0.1 soupsieve-2.3.1\n"
     ]
    }
   ],
   "source": [
    "!pip install bs4"
   ]
  },
  {
   "cell_type": "code",
   "execution_count": 10,
   "id": "0eaefb40",
   "metadata": {},
   "outputs": [],
   "source": [
    "from bs4 import BeautifulSoup\n",
    "from selenium import webdriver    # 라이브러리에서 사용하는 모듈만 호출\n",
    "from selenium.webdriver.chrome.options import Options\n",
    "from webdriver_manager.chrome import ChromeDriverManager\n",
    "from selenium.webdriver.common.by import By"
   ]
  },
  {
   "cell_type": "code",
   "execution_count": 32,
   "id": "d6eb8812",
   "metadata": {},
   "outputs": [
    {
     "name": "stderr",
     "output_type": "stream",
     "text": [
      "\n",
      "\n",
      "====== WebDriver manager ======\n",
      "Current google-chrome version is 96.0.4664\n",
      "Get LATEST chromedriver version for 96.0.4664 google-chrome\n",
      "Driver [C:\\Users\\User\\.wdm\\drivers\\chromedriver\\win32\\96.0.4664.45\\chromedriver.exe] found in cache\n",
      "C:\\Users\\User\\AppData\\Local\\Temp/ipykernel_18240/2787772434.py:3: DeprecationWarning: executable_path has been deprecated, please pass in a Service object\n",
      "  driver = webdriver.Chrome(ChromeDriverManager().install(), chrome_options=options)\n",
      "C:\\Users\\User\\AppData\\Local\\Temp/ipykernel_18240/2787772434.py:3: DeprecationWarning: use options instead of chrome_options\n",
      "  driver = webdriver.Chrome(ChromeDriverManager().install(), chrome_options=options)\n"
     ]
    }
   ],
   "source": [
    "options = Options()\n",
    "options.add_argument(\"start-maximized\")\n",
    "driver = webdriver.Chrome(ChromeDriverManager().install(), chrome_options=options)"
   ]
  },
  {
   "cell_type": "code",
   "execution_count": 33,
   "id": "c4f08194",
   "metadata": {},
   "outputs": [
    {
     "name": "stdout",
     "output_type": "stream",
     "text": [
      "https://www.google.com/search?q=python example github&start=20\n"
     ]
    }
   ],
   "source": [
    "search = 'python example github'\n",
    "page = 3\n",
    "url = 'https://www.google.com/search?q=' + search + \"&start=\" +      str((page - 1) * 10)\n",
    "print(url)\n",
    "driver.get(url)"
   ]
  },
  {
   "cell_type": "code",
   "execution_count": 40,
   "id": "7d5292fb",
   "metadata": {},
   "outputs": [
    {
     "name": "stderr",
     "output_type": "stream",
     "text": [
      "C:\\Users\\User\\AppData\\Local\\Temp/ipykernel_18240/4080103965.py:5: DeprecationWarning: find_elements_by_* commands are deprecated. Please use find_elements() instead\n",
      "  elements = driver.find_elements_by_class_name('yuRUbf')\n"
     ]
    }
   ],
   "source": [
    "links = []\n",
    "for page in range(1,10):\n",
    "    url = 'https://www.google.com/search?q=' + search + \"&start=\" +      str((page - 1) * 10)\n",
    "    driver.get(url)\n",
    "    elements = driver.find_elements_by_class_name('yuRUbf')\n",
    "    for el in elements:\n",
    "    #     print(el.text)\n",
    "        href = el.find_element_by_css_selector(\".yuRUbf [href]\")    \n",
    "        link = href.get_attribute('href')\n",
    "        links.append(link)"
   ]
  },
  {
   "cell_type": "code",
   "execution_count": 42,
   "id": "58d64061",
   "metadata": {},
   "outputs": [
    {
     "data": {
      "text/plain": [
       "['https://github.com/geekcomputers/Python',\n",
       " 'https://github.com/topics/python-examples',\n",
       " 'https://github.com/adaptives/python-examples',\n",
       " 'https://github.com/Python-World/python-mini-projects',\n",
       " 'https://github.com/OmkarPathak/Python-Programs',\n",
       " 'https://github.com/pypa/sampleproject']"
      ]
     },
     "execution_count": 42,
     "metadata": {},
     "output_type": "execute_result"
    }
   ],
   "source": [
    "links[:6]"
   ]
  },
  {
   "cell_type": "code",
   "execution_count": 48,
   "id": "f9e2e2d4",
   "metadata": {},
   "outputs": [
    {
     "name": "stderr",
     "output_type": "stream",
     "text": [
      "C:\\Users\\User\\AppData\\Local\\Temp/ipykernel_18240/3880586148.py:4: DeprecationWarning: find_elements_by_* commands are deprecated. Please use find_elements() instead\n",
      "  elements = driver.find_elements_by_class_name('Box-row')\n"
     ]
    }
   ],
   "source": [
    "pylink = []\n",
    "link = links[0]\n",
    "driver.get(link)\n",
    "elements = driver.find_elements_by_class_name('Box-row')\n",
    "for element in elements:    \n",
    "    if '.py' in element.text:\n",
    "      pylink.append(element.text)"
   ]
  },
  {
   "cell_type": "code",
   "execution_count": 50,
   "id": "7abd8e46",
   "metadata": {},
   "outputs": [
    {
     "name": "stdout",
     "output_type": "stream",
     "text": [
      "['CRC\\nUpdate crc.py\\n14 months ago', 'Colors\\nUpdate print_colors.py\\n2 months ago', 'Decimal to binary\\nUpdate 2to00000010.py\\n18 days ago']\n"
     ]
    }
   ],
   "source": [
    "print(pylink[:3])"
   ]
  },
  {
   "cell_type": "code",
   "execution_count": null,
   "id": "3ba4ddd6",
   "metadata": {},
   "outputs": [],
   "source": []
  }
 ],
 "metadata": {
  "kernelspec": {
   "display_name": "Python 3 (ipykernel)",
   "language": "python",
   "name": "python3"
  },
  "language_info": {
   "codemirror_mode": {
    "name": "ipython",
    "version": 3
   },
   "file_extension": ".py",
   "mimetype": "text/x-python",
   "name": "python",
   "nbconvert_exporter": "python",
   "pygments_lexer": "ipython3",
   "version": "3.9.7"
  }
 },
 "nbformat": 4,
 "nbformat_minor": 5
}
