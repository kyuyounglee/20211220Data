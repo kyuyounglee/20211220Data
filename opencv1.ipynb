{
 "cells": [
  {
   "cell_type": "code",
   "execution_count": 1,
   "id": "9d8de1d1",
   "metadata": {},
   "outputs": [],
   "source": [
    "import cv2"
   ]
  },
  {
   "cell_type": "code",
   "execution_count": 4,
   "id": "f0f46d81",
   "metadata": {},
   "outputs": [],
   "source": [
    "video_file = 'd:/big_buck.avi'\n",
    "\n",
    "cap =  cv2.VideoCapture(video_file)\n",
    "if cap.isOpened():\n",
    "  while True:       # 연속적인 파일의 프레임을 읽어오기 위함\n",
    "    ret,img = cap.read()      # 다음 프레임 읽어오기\n",
    "    if ret:\n",
    "      cv2.imshow(video_file,img)  # 화면에 표시\n",
    "      cv2.waitKey(25)             # 25ms 지연(40fps)\n",
    "    else:\n",
    "      break;\n",
    "else:\n",
    "  print(\"not open video\")\n",
    "cap.release()\n",
    "cv2.destroyAllWindows()  "
   ]
  },
  {
   "cell_type": "code",
   "execution_count": 5,
   "id": "ce0fe18d",
   "metadata": {},
   "outputs": [],
   "source": [
    "# 웹켐 사용"
   ]
  },
  {
   "cell_type": "code",
   "execution_count": 13,
   "id": "f250eabf",
   "metadata": {},
   "outputs": [],
   "source": [
    "import cv2\n",
    "cap =  cv2.VideoCapture(0)\n",
    "if cap.isOpened():\n",
    "    while True:       # 연속적인 파일의 프레임을 읽어오기 위함\n",
    "        ret,img = cap.read()      # 다음 프레임 읽어오기\n",
    "        if ret:\n",
    "            cv2.imshow('camera',img)  # 화면에 표시\n",
    "            if cv2.waitKey(1) != -1:  # 1초 동안 키 입력을 기다림\n",
    "                break;              # 동영상을 시간이 다되면 끝나지만 웹켐은 우리 끝내야 한다\n",
    "        else:\n",
    "            print('no frame')\n",
    "            break;\n",
    "else:\n",
    "    print(\"not open video\")\n",
    "cap.release()\n",
    "cv2.destroyAllWindows()  "
   ]
  },
  {
   "cell_type": "code",
   "execution_count": 4,
   "id": "5344bcc7",
   "metadata": {},
   "outputs": [],
   "source": [
    "\n",
    "# cv2.CAP_PROP_로 시작하는 상수\n",
    "\n",
    "# cv2.CAP_PROP_FRAME_WIDTH: 프레임 폭\n",
    "# cv2.CAP_PROP_FRAME_HEIGHT: 프레임 너비\n",
    "# cv2.CAP_PROP_FPS: 초당 프레임 수\n",
    "# cv2.CAP_PROP_MESC: 동영상 파일의 프레임 위치(ms)\n",
    "# cv2.CAP_PROP_AVI_RATIO: 동영상 파일의 상대 위치(0: 시작, 1: 끝)\n",
    "# cv2.CAP_PROP_FOURCC: 동영상 파일 코덱 문자\n",
    "# cv2.CAP_PROP_AUTOFOCUS: 카메라 자동 초점 조절\n",
    "# cv2.CAP_PROP_ZOOM: 카메라 줌\n"
   ]
  },
  {
   "cell_type": "code",
   "execution_count": 5,
   "id": "f65d9f85",
   "metadata": {},
   "outputs": [
    {
     "name": "stdout",
     "output_type": "stream",
     "text": [
      "FPS: 24.000000, Delay: 41ms\n"
     ]
    }
   ],
   "source": [
    "import cv2\n",
    "video_file = 'd:/big_buck.avi'\n",
    "\n",
    "cap =  cv2.VideoCapture(video_file)\n",
    "if cap.isOpened():\n",
    "    fps = cap.get(cv2.CAP_PROP_FPS)\n",
    "    delay = int(1000/fps)\n",
    "    print(\"FPS: %f, Delay: %dms\" %(fps,delay) )\n",
    "    \n",
    "    while True:       # 연속적인 파일의 프레임을 읽어오기 위함\n",
    "        ret,img = cap.read()      # 다음 프레임 읽어오기\n",
    "        if ret:\n",
    "            cv2.imshow(video_file,img)  # 화면에 표시\n",
    "            cv2.waitKey(25)             # 25ms 지연(40fps)\n",
    "        else:\n",
    "            break;\n",
    "else:\n",
    "  print(\"not open video\")\n",
    "cap.release()\n",
    "cv2.destroyAllWindows()  "
   ]
  },
  {
   "cell_type": "code",
   "execution_count": 8,
   "id": "bbb3f5b4",
   "metadata": {},
   "outputs": [
    {
     "name": "stdout",
     "output_type": "stream",
     "text": [
      "Original width : 640, height : 480\n",
      "Resized width : 1024, height : 768\n"
     ]
    }
   ],
   "source": [
    "# 카메라 프레이 크기 설정\n",
    "import cv2\n",
    "cap =  cv2.VideoCapture(0)\n",
    "width = cap.get(cv2.CAP_PROP_FRAME_WIDTH)\n",
    "height = cap.get(cv2.CAP_PROP_FRAME_HEIGHT)\n",
    "print('Original width : %d, height : %d' %(width,height) )\n",
    "\n",
    "cap.set(cv2.CAP_PROP_FRAME_WIDTH, 1024)\n",
    "cap.set(cv2.CAP_PROP_FRAME_HEIGHT, 768)\n",
    "width = cap.get(cv2.CAP_PROP_FRAME_WIDTH)\n",
    "height = cap.get(cv2.CAP_PROP_FRAME_HEIGHT)\n",
    "print('Resized width : %d, height : %d' %(width,height) )\n",
    "if cap.isOpened():\n",
    "    while True:       # 연속적인 파일의 프레임을 읽어오기 위함\n",
    "        ret,img = cap.read()      # 다음 프레임 읽어오기\n",
    "        if ret:\n",
    "            cv2.imshow('camera',img)  # 화면에 표시\n",
    "            if cv2.waitKey(1) != -1:  # 1초 동안 키 입력을 기다림\n",
    "                break;              # 동영상을 시간이 다되면 끝나지만 웹켐은 우리 끝내야 한다\n",
    "        else:\n",
    "            print('no frame')\n",
    "            break;\n",
    "else:\n",
    "    print(\"not open video\")\n",
    "cap.release()\n",
    "cv2.destroyAllWindows()"
   ]
  },
  {
   "cell_type": "code",
   "execution_count": 9,
   "id": "63bb39ac",
   "metadata": {},
   "outputs": [],
   "source": [
    "import cv2\n",
    "cap =  cv2.VideoCapture(0)\n",
    "if cap.isOpened():\n",
    "    while True:       # 연속적인 파일의 프레임을 읽어오기 위함\n",
    "        ret,frame = cap.read()      # 다음 프레임 읽어오기\n",
    "        if ret:\n",
    "            cv2.imshow('camera',frame)  # 화면에 표시\n",
    "            if cv2.waitKey(1) != -1:  # 1초 동안 키 입력을 기다림\n",
    "                cv2.imwrite('photo.jpg',frame)\n",
    "                break;              # 동영상을 시간이 다되면 끝나지만 웹켐은 우리 끝내야 한다\n",
    "        else:\n",
    "            print('no frame')\n",
    "            break;\n",
    "else:\n",
    "    print(\"not open video\")\n",
    "cap.release()\n",
    "cv2.destroyAllWindows()  "
   ]
  },
  {
   "cell_type": "code",
   "execution_count": 12,
   "id": "645786a7",
   "metadata": {},
   "outputs": [],
   "source": [
    "# 녹화\n",
    "import cv2\n",
    "cap = cv2.VideoCapture(0)\n",
    "if cap.isOpened:\n",
    "    file_path = './record.avi'\n",
    "    fps = 30.0\n",
    "    fourcc = cv2.VideoWriter_fourcc(*'DIVX')\n",
    "    width = cap.get(cv2.CAP_PROP_FRAME_WIDTH)\n",
    "    height = cap.get(cv2.CAP_PROP_FRAME_HEIGHT)\n",
    "    size = (int(width), int(height) )\n",
    "    out = cv2.VideoWriter(file_path, fourcc,fps,size)\n",
    "    while True:\n",
    "        ret,frame = cap.read()\n",
    "        if ret:\n",
    "            cv2.imshow('camera-recording', frame)\n",
    "            out.write(frame)\n",
    "            if cv2.waitKey( int(1000/fps)) != -1:\n",
    "                break\n",
    "        else:\n",
    "            print('no frame')\n",
    "            break\n",
    "    out.release()         \n",
    "else:\n",
    "    print(\"not open camera\")\n",
    "cap.release()\n",
    "cv2.destroyAllWindows()\n",
    "                "
   ]
  },
  {
   "cell_type": "code",
   "execution_count": null,
   "id": "d6a2d7fb",
   "metadata": {},
   "outputs": [],
   "source": []
  }
 ],
 "metadata": {
  "kernelspec": {
   "display_name": "Python 3 (ipykernel)",
   "language": "python",
   "name": "python3"
  },
  "language_info": {
   "codemirror_mode": {
    "name": "ipython",
    "version": 3
   },
   "file_extension": ".py",
   "mimetype": "text/x-python",
   "name": "python",
   "nbconvert_exporter": "python",
   "pygments_lexer": "ipython3",
   "version": "3.9.7"
  }
 },
 "nbformat": 4,
 "nbformat_minor": 5
}
