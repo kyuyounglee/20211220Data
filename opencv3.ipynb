{
 "cells": [
  {
   "cell_type": "code",
   "execution_count": 1,
   "id": "24f9b31a",
   "metadata": {},
   "outputs": [],
   "source": [
    "# 관심영역\n",
    "# 이미지전체를 연산에 사용하지 않고 부분만 잘라날때"
   ]
  },
  {
   "cell_type": "code",
   "execution_count": 1,
   "id": "ecbe1cd4",
   "metadata": {},
   "outputs": [
    {
     "name": "stdout",
     "output_type": "stream",
     "text": [
      "(50, 50, 3)\n"
     ]
    }
   ],
   "source": [
    "import cv2\n",
    "import numpy as np\n",
    "\n",
    "img = cv2.imread('d:/sunset.jpg')\n",
    "x = 320; y=150;w=50;h=50  # roi 좌표\n",
    "roi = img[y:y+h, x:x+w]\n",
    "\n",
    "print(roi.shape)  # 50 50 3\n",
    "cv2.rectangle(roi,(0,0), (h-1, w-1), (0,255,0))  # roi 에 사각형을 그리기\n",
    "cv2.imshow('img', img)\n",
    "cv2.waitKey(0)\n",
    "cv2.destroyAllWindows()"
   ]
  },
  {
   "cell_type": "code",
   "execution_count": 2,
   "id": "e0ad3160",
   "metadata": {},
   "outputs": [],
   "source": [
    "import cv2\n",
    "import numpy as np\n",
    "\n",
    "img = cv2.imread('d:/sunset.jpg')\n",
    "x = 320; y=150;w=50;h=50  # roi 좌표\n",
    "roi = img[y:y+h, x:x+w]\n",
    "\n",
    "img2 =  roi.copy()\n",
    "img[y:y+h, x+w:x+w+w] = roi  # 새로운 좌표에 roi 추가, 태양 2개 만들기\n",
    "cv2.rectangle(roi,(x,y), (x+w+w, y+w), (0,255,0))  # 2개의 태양 영역에 사각형 표시\n",
    "\n",
    "cv2.imshow('img', img)\n",
    "cv2.imshow('roi', img2)\n",
    "\n",
    "cv2.waitKey(0)\n",
    "cv2.destroyAllWindows()\n",
    "\n"
   ]
  },
  {
   "cell_type": "code",
   "execution_count": 15,
   "id": "b471bbe5",
   "metadata": {},
   "outputs": [
    {
     "name": "stdout",
     "output_type": "stream",
     "text": [
      "cropped\n"
     ]
    }
   ],
   "source": [
    "# 마우스로 관심영역 지정\n",
    "# 마우스 이벤트를 사용\n",
    "import cv2\n",
    "import numpy as np\n",
    "\n",
    "isDraging = False\n",
    "x0, y0, w, h = -1,-1,-1,-1\n",
    "blue, red = (255,0,0), (0,0,255)\n",
    "\n",
    "\n",
    "def onMouse(event, x, y, flag, param):\n",
    "    global isDraging,x0, y0, img    # 전역변수 참조\n",
    "    if event == cv2.EVENT_LBUTTONDOWN:\n",
    "        isDraging = True\n",
    "        x0 = x\n",
    "        y0 = y\n",
    "    elif event == cv2.EVENT_MOUSEMOVE:        \n",
    "        if isDraging:\n",
    "            img_draw = img.copy()\n",
    "            cv2.rectangle(img_draw, (x0,y0) ,(x,y), blue, 2)\n",
    "            cv2.imshow('img', img_draw)\n",
    "    elif event == cv2.EVENT_LBUTTONUP:\n",
    "        isDraging = False  \n",
    "        w = x - x0\n",
    "        h = y - y0\n",
    "        if w>0 and h>0:\n",
    "            img_draw = img.copy()\n",
    "            cv2.rectangle(img_draw, (x0,y0) ,(x,y), red, 2)\n",
    "            cv2.imshow('img',img_draw)\n",
    "            roi = img[y0:y0+h , x0:x0+w]\n",
    "            cv2.imshow('cropped', roi)\n",
    "            cv2.moveWindow('cropped',0,0)\n",
    "            cv2.imwrite('d:/cropped.jpg', roi)\n",
    "            print('cropped')\n",
    "    else:\n",
    "        cv2.imshow('img',img)  # 드래그가 잘못되면 원본 이미지 출력\n",
    "\n",
    "img = cv2.imread('d:/sunset.jpg')\n",
    "cv2.imshow('img',img)\n",
    "cv2.setMouseCallback('img', onMouse)\n",
    "cv2.waitKey()\n",
    "cv2.destroyAllWindows()"
   ]
  },
  {
   "cell_type": "code",
   "execution_count": null,
   "id": "9f3d5139",
   "metadata": {},
   "outputs": [],
   "source": []
  }
 ],
 "metadata": {
  "kernelspec": {
   "display_name": "Python 3 (ipykernel)",
   "language": "python",
   "name": "python3"
  },
  "language_info": {
   "codemirror_mode": {
    "name": "ipython",
    "version": 3
   },
   "file_extension": ".py",
   "mimetype": "text/x-python",
   "name": "python",
   "nbconvert_exporter": "python",
   "pygments_lexer": "ipython3",
   "version": "3.9.7"
  }
 },
 "nbformat": 4,
 "nbformat_minor": 5
}
