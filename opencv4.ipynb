{
 "cells": [
  {
   "cell_type": "code",
   "execution_count": 2,
   "id": "a1399c4e",
   "metadata": {},
   "outputs": [],
   "source": [
    "# threadholding \n",
    "# 이미지를 binary 전환(이진화) : 좀더 정확하게 판단\n",
    "# threadholding  : 점수라고 하면 커트라인을 기준으로 합격 불합격\n",
    "\n",
    "\n",
    "# cv2.threshold(img, threshold, value, type_flag) 함수\n",
    "# img: Numpy 배열. 변환할 이미지.\n",
    "# threshold: 경계값\n",
    "# value: 경계값 기준에 만족하는 픽셀에 적용할 값\n",
    "# type_flag: 스레시홀드 적용 방법 지정.\n",
    "# cv2.THRESH_BINARY: px > threshold ? value: 0, 픽셀값이 경계값을 넘으면 value를 지정하고, 넘지 못하면 0을 지정\n",
    "# cv2.THRESH_BINARY_INV: px > threshold ? 0: value, cv2.THRESH_BINARY의 반대.\n",
    "# cv2.THRESH_TRUNC: px > threshold ? value: px, 픽셀값이 경계값을 넘으면 value를 지정하고, 넘지 못하면 원래의 값 유지\n",
    "# cv2.THRESH_TOZERO: px > threshold ? px: 0, 픽셀값이 경계값을 넘으면 원래 값을 유지, 넘지 못하면 0을 지정\n",
    "# cv2.THRESH_TOZERO_INV: px > threshold ? 0: px, cv2.THRESH_TOZERO의 반대\n",
    "# ret: 스레시홀딩에 사용한 경계값\n",
    "# out: 결과 바이너리 이미지\n",
    "\n",
    "# 바이너리 이미지 만들기\n",
    "import cv2\n",
    "import numpy as np\n",
    "import matplotlib.pylab as plt"
   ]
  },
  {
   "cell_type": "code",
   "execution_count": 3,
   "id": "552af43d",
   "metadata": {},
   "outputs": [],
   "source": [
    "img = cv2.imread('d:/gray_gradient.jpg', cv2.IMREAD_GRAYSCALE)"
   ]
  },
  {
   "cell_type": "code",
   "execution_count": 6,
   "id": "62183390",
   "metadata": {},
   "outputs": [],
   "source": [
    "# numpy 연산을 이용해서 이미지를 만들기\n",
    "thresh_np = np.zeros_like(img)  #  원본과 동일한 크기의 0으로 채워진 이미지\n",
    "thresh_np[img>127] = 255   # 127보다 큰 ㄱ밧만 255 변경"
   ]
  },
  {
   "cell_type": "code",
   "execution_count": 7,
   "id": "f6dbe666",
   "metadata": {},
   "outputs": [
    {
     "name": "stdout",
     "output_type": "stream",
     "text": [
      "127.0\n"
     ]
    },
    {
     "data": {
      "image/png": "[encoded data removed]",
      "text/plain": [
       "<Figure size 432x288 with 3 Axes>"
      ]
     },
     "metadata": {},
     "output_type": "display_data"
    },
    {
     "data": {
      "image/png": "[encoded data removed]",
      "text/plain": [
       "<Figure size 432x288 with 3 Axes>"
      ]
     },
     "metadata": {},
     "output_type": "display_data"
    }
   ],
   "source": [
    "#Opencv함수로 바이너리 이미지 만들기 -- ②\n",
    "ret, thresh_cv = cv2.threshold(img, 127, 255, cv2.THRESH_BINARY)\n",
    "print(ret)   #127.0, 바이너리 이미지에 사용된 경계값 반환\n",
    "\n",
    "#원본과 결과물 출력 -- ③\n",
    "imgs = {'Original': img, 'Numpy API': thresh_np, 'cv2.threshold': thresh_cv}\n",
    "for i, (key, value) in enumerate(imgs.items()):\n",
    "    plt.subplot(1, 3, i+1)\n",
    "    plt.title(key)\n",
    "    plt.imshow(value, cmap = 'gray')\n",
    "    plt.xticks([]); plt.yticks([])\n",
    "    \n",
    "plt.show(0)"
   ]
  },
  {
   "cell_type": "code",
   "execution_count": null,
   "id": "b4265b77",
   "metadata": {},
   "outputs": [],
   "source": []
  }
 ],
 "metadata": {
  "kernelspec": {
   "display_name": "Python 3 (ipykernel)",
   "language": "python",
   "name": "python3"
  },
  "language_info": {
   "codemirror_mode": {
    "name": "ipython",
    "version": 3
   },
   "file_extension": ".py",
   "mimetype": "text/x-python",
   "name": "python",
   "nbconvert_exporter": "python",
   "pygments_lexer": "ipython3",
   "version": "3.9.7"
  }
 },
 "nbformat": 4,
 "nbformat_minor": 5
}
