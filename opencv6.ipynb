{
 "cells": [
  {
   "cell_type": "code",
   "execution_count": 4,
   "id": "47712471",
   "metadata": {},
   "outputs": [],
   "source": [
    "# 모션감지 cctv\n",
    "import cv2\n",
    "import numpy as np\n",
    "# 카메라 감도 설정\n",
    "thresh = 25 # 픽셀값 기준치 설정\n",
    "max_diff = 5 #  픽셀 수 기준치  설정"
   ]
  },
  {
   "cell_type": "code",
   "execution_count": 6,
   "id": "50a51dae",
   "metadata": {},
   "outputs": [],
   "source": [
    "# 카메라 캡션 \n",
    "a,b,c = None,None,None\n",
    "cap =  cv2.VideoCapture(0)\n",
    "cap.set(cv2.CAP_PROP_FRAME_WIDTH,480)\n",
    "cap.set(cv2.CAP_PROP_FRAME_HEIGHT,320)\n",
    "\n",
    "if cap.isOpened():\n",
    "    ret,a = cap.read()\n",
    "    ret,b = cap.read()\n",
    "    while ret:\n",
    "        ret,c =  cap.read()\n",
    "        draw = c.copy()    # 출력영상에 사용할 복제본\n",
    "        if not ret:\n",
    "            break\n",
    "        \n",
    "        # 3개의 영상을 그레이 스케일로 변경\n",
    "        a_gray = cv2.cvtColor(a, cv2.COLOR_RGB2GRAY)\n",
    "        b_gray = cv2.cvtColor(b, cv2.COLOR_RGB2GRAY)\n",
    "        c_gray = cv2.cvtColor(c, cv2.COLOR_RGB2GRAY)\n",
    "        \n",
    "        # a-b, b-c 절대값의 차\n",
    "        diff1 = cv2.absdiff(a_gray, b_gray)\n",
    "        diff2 = cv2.absdiff(b_gray, c_gray)\n",
    "        \n",
    "        # 스레드홀드로 기준치 이내의 차이는 무시\n",
    "        ret, diff1_t = cv2.threshold(diff1,thresh,255,cv2.THRESH_BINARY)\n",
    "        ret, diff2_t = cv2.threshold(diff2,thresh,255,cv2.THRESH_BINARY)\n",
    "        \n",
    "        # 두개의 영상의 차이가 모두 발견된 경우\n",
    "        diff = cv2.bitwise_and(diff1_t, diff2_t)\n",
    "        \n",
    "        #노이즈 제거( 영상끼리 연산을 한 경우 노이즈 생긴다)\n",
    "        k = cv2.getStructuringElement(cv2.MORPH_CROSS, (3,3))\n",
    "        diff = cv2.morphologyEx(diff, cv2.MORPH_OPEN,k)\n",
    "        \n",
    "        #움직임을 감지한 영역에 사각형\n",
    "        diff_cnt = cv2.countNonZero(diff)\n",
    "        if diff_cnt > max_diff:\n",
    "            nzero = np.nonzero(diff) # 0이 아닌 픽셀의 좌표\n",
    "            cv2.rectangle(draw, (min(nzero[1]), min(nzero[0])), (max(nzero[1]), max(nzero[0])),\n",
    "                         (0,255,0), 2 )\n",
    "            cv2.putText(draw, 'Motion Detected', (10,10), cv2.FONT_HERSHEY_DUPLEX, 0.5, (0,0,255) )\n",
    "        \n",
    "        stacked = np.hstack((draw, cv2.cvtColor(diff, cv2.COLOR_GRAY2BGR)))\n",
    "        cv2.imshow('motion sensor', stacked)\n",
    "        \n",
    "        a = b\n",
    "        b = c\n",
    "        \n",
    "        if cv2.waitKey(1) & 0xFF == 27:\n",
    "            break"
   ]
  },
  {
   "cell_type": "code",
   "execution_count": null,
   "id": "f746a902",
   "metadata": {},
   "outputs": [],
   "source": []
  }
 ],
 "metadata": {
  "kernelspec": {
   "display_name": "Python 3 (ipykernel)",
   "language": "python",
   "name": "python3"
  },
  "language_info": {
   "codemirror_mode": {
    "name": "ipython",
    "version": 3
   },
   "file_extension": ".py",
   "mimetype": "text/x-python",
   "name": "python",
   "nbconvert_exporter": "python",
   "pygments_lexer": "ipython3",
   "version": "3.9.7"
  }
 },
 "nbformat": 4,
 "nbformat_minor": 5
}
